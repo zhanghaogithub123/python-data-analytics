{
 "cells": [
  {
   "cell_type": "raw",
   "metadata": {},
   "source": [
    "第10章　IPython Notebook内嵌JavaScript库D3　　252\n",
    "10.1　开放的人口数据源　　252\n",
    "10.2　JavaScript库D3　　255\n",
    "10.3　绘制簇状条状图　　259\n",
    "10.4　地区分布图　　262\n",
    "10.5　2014年美国人口地区分布图　　266\n",
    "10.6　小结　　270"
   ]
  },
  {
   "cell_type": "code",
   "execution_count": 17,
   "metadata": {},
   "outputs": [
    {
     "name": "stdout",
     "output_type": "stream",
     "text": [
      "(3193, 84)\n",
      "Index(['SUMLEV', 'REGION', 'DIVISION', 'STATE', 'COUNTY', 'STNAME', 'CTYNAME',\n",
      "       'CENSUS2010POP', 'ESTIMATESBASE2010', 'POPESTIMATE2010',\n",
      "       'POPESTIMATE2011', 'POPESTIMATE2012', 'POPESTIMATE2013',\n",
      "       'POPESTIMATE2014', 'NPOPCHG_2010', 'NPOPCHG_2011', 'NPOPCHG_2012',\n",
      "       'NPOPCHG_2013', 'NPOPCHG_2014', 'BIRTHS2010', 'BIRTHS2011',\n",
      "       'BIRTHS2012', 'BIRTHS2013', 'BIRTHS2014', 'DEATHS2010', 'DEATHS2011',\n",
      "       'DEATHS2012', 'DEATHS2013', 'DEATHS2014', 'NATURALINC2010',\n",
      "       'NATURALINC2011', 'NATURALINC2012', 'NATURALINC2013', 'NATURALINC2014',\n",
      "       'INTERNATIONALMIG2010', 'INTERNATIONALMIG2011', 'INTERNATIONALMIG2012',\n",
      "       'INTERNATIONALMIG2013', 'INTERNATIONALMIG2014', 'DOMESTICMIG2010',\n",
      "       'DOMESTICMIG2011', 'DOMESTICMIG2012', 'DOMESTICMIG2013',\n",
      "       'DOMESTICMIG2014', 'NETMIG2010', 'NETMIG2011', 'NETMIG2012',\n",
      "       'NETMIG2013', 'NETMIG2014', 'RESIDUAL2010', 'RESIDUAL2011',\n",
      "       'RESIDUAL2012', 'RESIDUAL2013', 'RESIDUAL2014', 'GQESTIMATESBASE2010',\n",
      "       'GQESTIMATES2010', 'GQESTIMATES2011', 'GQESTIMATES2012',\n",
      "       'GQESTIMATES2013', 'GQESTIMATES2014', 'RBIRTH2011', 'RBIRTH2012',\n",
      "       'RBIRTH2013', 'RBIRTH2014', 'RDEATH2011', 'RDEATH2012', 'RDEATH2013',\n",
      "       'RDEATH2014', 'RNATURALINC2011', 'RNATURALINC2012', 'RNATURALINC2013',\n",
      "       'RNATURALINC2014', 'RINTERNATIONALMIG2011', 'RINTERNATIONALMIG2012',\n",
      "       'RINTERNATIONALMIG2013', 'RINTERNATIONALMIG2014', 'RDOMESTICMIG2011',\n",
      "       'RDOMESTICMIG2012', 'RDOMESTICMIG2013', 'RDOMESTICMIG2014',\n",
      "       'RNETMIG2011', 'RNETMIG2012', 'RNETMIG2013', 'RNETMIG2014'],\n",
      "      dtype='object')\n"
     ]
    }
   ],
   "source": [
    "import numpy as np\n",
    "import pandas as pd\n",
    "import matplotlib.pyplot as plt\n",
    "%matplotlib inline\n",
    "\n",
    "# from urllib.request import urlopen\n",
    "# pop2014 = pd.read_csv(\n",
    "# urlopen('http://www.census.gov/popest/data/counties/totals/2014/files/CO-EST2014-alldata.csv'),\n",
    "# encoding='latin-1',\n",
    "# dtype={'STATE': 'str', 'COUNTY': 'str'}\n",
    "# )\n",
    "\n",
    "pop2014 = pd.read_csv('CO-EST2014-alldata.csv',encoding='latin-1',dtype={'STATE': 'str', 'COUNTY': 'str'})\n",
    "print(pop2014.shape)\n",
    "print(pop2014.columns)"
   ]
  },
  {
   "cell_type": "code",
   "execution_count": 18,
   "metadata": {},
   "outputs": [
    {
     "data": {
      "text/plain": [
       "(51, 84)"
      ]
     },
     "execution_count": 18,
     "metadata": {},
     "output_type": "execute_result"
    }
   ],
   "source": [
    "pop2014_by_state = pop2014[pop2014.SUMLEV == 40]\n",
    "pop2014_by_state.shape"
   ]
  },
  {
   "cell_type": "code",
   "execution_count": 19,
   "metadata": {
    "collapsed": true
   },
   "outputs": [],
   "source": [
    "states = pop2014_by_state[['STNAME','POPESTIMATE2011', 'POPESTIMATE2012', 'POPESTIMATE2013',\n",
    "'POPESTIMATE2014']]"
   ]
  },
  {
   "cell_type": "code",
   "execution_count": 24,
   "metadata": {
    "scrolled": true
   },
   "outputs": [
    {
     "name": "stdout",
     "output_type": "stream",
     "text": [
      "          STNAME  POPESTIMATE2011  POPESTIMATE2012  POPESTIMATE2013  \\\n",
      "190   California         37701901         38062780         38431393   \n",
      "2566       Texas         25657477         26094422         26505637   \n",
      "329      Florida         19107900         19355257         19600311   \n",
      "1860    New York         19521745         19607140         19695680   \n",
      "608     Illinois         12858725         12873763         12890552   \n",
      "\n",
      "      POPESTIMATE2014  \n",
      "190          38802500  \n",
      "2566         26956958  \n",
      "329          19893297  \n",
      "1860         19746227  \n",
      "608          12880580  \n"
     ]
    }
   ],
   "source": [
    "temp = states.sort_values(['POPESTIMATE2014'], ascending=False)[:5]\n",
    "print(temp)"
   ]
  },
  {
   "cell_type": "code",
   "execution_count": 31,
   "metadata": {},
   "outputs": [
    {
     "data": {
      "application/javascript": [
       "require.config({\n",
       "paths: {\n",
       "d3: '//cdnjs.cloudflare.com/ajax/libs/d3/3.5.5/d3.min'\n",
       "}\n",
       "});"
      ],
      "text/plain": [
       "<IPython.core.display.Javascript object>"
      ]
     },
     "metadata": {},
     "output_type": "display_data"
    }
   ],
   "source": [
    "%%javascript\n",
    "require.config({\n",
    "paths: {\n",
    "d3: '//cdnjs.cloudflare.com/ajax/libs/d3/3.5.5/d3.min'\n",
    "}\n",
    "});"
   ]
  },
  {
   "cell_type": "code",
   "execution_count": 32,
   "metadata": {},
   "outputs": [
    {
     "data": {
      "text/html": [
       "\n",
       "<style>\n",
       ".bar {\n",
       "fill: steelblue;\n",
       "}\n",
       ".bar:hover{\n",
       "fill: brown;\n",
       "}\n",
       ".axis {\n",
       "font: 10px sans-serif;\n",
       "}\n",
       ".axis path,\n",
       ".axis line {\n",
       "fill: none;\n",
       "stroke: #000;\n",
       "}\n",
       ".x.axis path {\n",
       "display: none;\n",
       "}\n",
       "</style>\n",
       "<div id=\"chart_d3\" />\n"
      ],
      "text/plain": [
       "<IPython.core.display.HTML object>"
      ]
     },
     "metadata": {},
     "output_type": "display_data"
    }
   ],
   "source": [
    "from IPython.core.display import display, Javascript, HTML\n",
    "display(HTML(\"\"\"\n",
    "<style>\n",
    ".bar {\n",
    "fill: steelblue;\n",
    "}\n",
    ".bar:hover{\n",
    "fill: brown;\n",
    "}\n",
    ".axis {\n",
    "font: 10px sans-serif;\n",
    "}\n",
    ".axis path,\n",
    ".axis line {\n",
    "fill: none;\n",
    "stroke: #000;\n",
    "}\n",
    ".x.axis path {\n",
    "display: none;\n",
    "}\n",
    "</style>\n",
    "<div id=\"chart_d3\" />\n",
    "\"\"\"))"
   ]
  },
  {
   "cell_type": "code",
   "execution_count": 33,
   "metadata": {
    "collapsed": true
   },
   "outputs": [],
   "source": [
    "import jinja2\n",
    "myTemplate = jinja2.Template(\"\"\"\n",
    "require([\"d3\"], function(d3){\n",
    "var data = []\n",
    "{% for row in data %}\n",
    "data.push({ 'state': '{{ row[1] }}', 'population': {{ row[5] }} });\n",
    "{% endfor %}\n",
    "d3.select(\"#chart_d3 svg\").remove()\n",
    "var margin = {top: 20, right: 20, bottom: 30, left: 40},\n",
    "width = 800 - margin.left - margin.right,\n",
    "height = 400 - margin.top - margin.bottom;\n",
    "var x = d3.scale.ordinal()\n",
    ".rangeRoundBands([0, width], .25);\n",
    "var y = d3.scale.linear()\n",
    ".range([height, 0]);\n",
    "var xAxis = d3.svg.axis()\n",
    ".scale(x)\n",
    ".orient(\"bottom\");\n",
    "var yAxis = d3.svg.axis()\n",
    ".scale(y)\n",
    ".orient(\"left\")\n",
    ".ticks(10)\n",
    ".tickFormat(d3.format('.1s'));\n",
    "var svg = d3.select(\"#chart_d3\").append(\"svg\")\n",
    ".attr(\"width\", width + margin.left + margin.right)\n",
    ".attr(\"height\", height + margin.top + margin.bottom)\n",
    ".append(\"g\")\n",
    ".attr(\"transform\", \"translate(\" + margin.left + \",\" + margin.top + \")\");\n",
    "x.domain(data.map(function(d) { return d.state; }));\n",
    "y.domain([0, d3.max(data, function(d) { return d.population; })]);\n",
    "svg.append(\"g\")\n",
    ".attr(\"class\", \"x axis\")\n",
    ".attr(\"transform\", \"translate(0,\" + height + \")\")\n",
    ".call(xAxis);\n",
    "svg.append(\"g\")\n",
    ".attr(\"class\", \"y axis\")\n",
    ".call(yAxis)\n",
    ".append(\"text\")\n",
    ".attr(\"transform\", \"rotate(-90)\")\n",
    ".attr(\"y\", 6)\n",
    ".attr(\"dy\", \".71em\")\n",
    ".style(\"text-anchor\", \"end\")\n",
    ".text(\"Population\");\n",
    "svg.selectAll(\".bar\")\n",
    ".data(data)\n",
    ".enter().append(\"rect\")\n",
    ".attr(\"class\", \"bar\")\n",
    ".attr(\"x\", function(d) { return x(d.state); })\n",
    ".attr(\"width\", x.rangeBand())\n",
    ".attr(\"y\", function(d) { return y(d.population); })\n",
    ".attr(\"height\", function(d) { return height - y(d.population); });\n",
    "});\n",
    "\"\"\");"
   ]
  },
  {
   "cell_type": "code",
   "execution_count": 34,
   "metadata": {},
   "outputs": [
    {
     "data": {
      "application/javascript": [
       "\n",
       "require([\"d3\"], function(d3){\n",
       "var data = []\n",
       "\n",
       "data.push({ 'state': 'California', 'population': 38802500 });\n",
       "\n",
       "data.push({ 'state': 'Texas', 'population': 26956958 });\n",
       "\n",
       "data.push({ 'state': 'New York', 'population': 19746227 });\n",
       "\n",
       "data.push({ 'state': 'Florida', 'population': 19893297 });\n",
       "\n",
       "data.push({ 'state': 'Illinois', 'population': 12880580 });\n",
       "\n",
       "data.push({ 'state': 'Pennsylvania', 'population': 12787209 });\n",
       "\n",
       "data.push({ 'state': 'Ohio', 'population': 11594163 });\n",
       "\n",
       "data.push({ 'state': 'Georgia', 'population': 10097343 });\n",
       "\n",
       "data.push({ 'state': 'Michigan', 'population': 9909877 });\n",
       "\n",
       "data.push({ 'state': 'North Carolina', 'population': 9943964 });\n",
       "\n",
       "d3.select(\"#chart_d3 svg\").remove()\n",
       "var margin = {top: 20, right: 20, bottom: 30, left: 40},\n",
       "width = 800 - margin.left - margin.right,\n",
       "height = 400 - margin.top - margin.bottom;\n",
       "var x = d3.scale.ordinal()\n",
       ".rangeRoundBands([0, width], .25);\n",
       "var y = d3.scale.linear()\n",
       ".range([height, 0]);\n",
       "var xAxis = d3.svg.axis()\n",
       ".scale(x)\n",
       ".orient(\"bottom\");\n",
       "var yAxis = d3.svg.axis()\n",
       ".scale(y)\n",
       ".orient(\"left\")\n",
       ".ticks(10)\n",
       ".tickFormat(d3.format('.1s'));\n",
       "var svg = d3.select(\"#chart_d3\").append(\"svg\")\n",
       ".attr(\"width\", width + margin.left + margin.right)\n",
       ".attr(\"height\", height + margin.top + margin.bottom)\n",
       ".append(\"g\")\n",
       ".attr(\"transform\", \"translate(\" + margin.left + \",\" + margin.top + \")\");\n",
       "x.domain(data.map(function(d) { return d.state; }));\n",
       "y.domain([0, d3.max(data, function(d) { return d.population; })]);\n",
       "svg.append(\"g\")\n",
       ".attr(\"class\", \"x axis\")\n",
       ".attr(\"transform\", \"translate(0,\" + height + \")\")\n",
       ".call(xAxis);\n",
       "svg.append(\"g\")\n",
       ".attr(\"class\", \"y axis\")\n",
       ".call(yAxis)\n",
       ".append(\"text\")\n",
       ".attr(\"transform\", \"rotate(-90)\")\n",
       ".attr(\"y\", 6)\n",
       ".attr(\"dy\", \".71em\")\n",
       ".style(\"text-anchor\", \"end\")\n",
       ".text(\"Population\");\n",
       "svg.selectAll(\".bar\")\n",
       ".data(data)\n",
       ".enter().append(\"rect\")\n",
       ".attr(\"class\", \"bar\")\n",
       ".attr(\"x\", function(d) { return x(d.state); })\n",
       ".attr(\"width\", x.rangeBand())\n",
       ".attr(\"y\", function(d) { return y(d.population); })\n",
       ".attr(\"height\", function(d) { return height - y(d.population); });\n",
       "});"
      ],
      "text/plain": [
       "<IPython.core.display.Javascript object>"
      ]
     },
     "metadata": {},
     "output_type": "display_data"
    }
   ],
   "source": [
    "display(Javascript(myTemplate.render(\n",
    "data=states.sort_values(['POPESTIMATE2012'], ascending=False)[:10].itertuples()\n",
    ")))"
   ]
  },
  {
   "cell_type": "code",
   "execution_count": 35,
   "metadata": {},
   "outputs": [
    {
     "data": {
      "text/html": [
       "\n",
       "<style>\n",
       ".bar2011 {\n",
       "fill: steelblue;\n",
       "}\n",
       ".bar2012 {\n",
       "fill: red;\n",
       "}\n",
       ".bar2013 {\n",
       "fill: yellow;\n",
       "}\n",
       ".bar2014 {\n",
       "fill: green;\n",
       "}\n",
       ".axis {\n",
       "font: 10px sans-serif;\n",
       "}\n",
       ".axis path,\n",
       ".axis line {\n",
       "fill: none;\n",
       "stroke: #000;\n",
       "}\n",
       ".x.axis path {\n",
       "display: none;\n",
       "}\n",
       "</style>\n",
       "<div id=\"chart_d3\" />\n"
      ],
      "text/plain": [
       "<IPython.core.display.HTML object>"
      ]
     },
     "metadata": {},
     "output_type": "display_data"
    }
   ],
   "source": [
    "display(HTML(\"\"\"\n",
    "<style>\n",
    ".bar2011 {\n",
    "fill: steelblue;\n",
    "}\n",
    ".bar2012 {\n",
    "fill: red;\n",
    "}\n",
    ".bar2013 {\n",
    "fill: yellow;\n",
    "}\n",
    ".bar2014 {\n",
    "fill: green;\n",
    "}\n",
    ".axis {\n",
    "font: 10px sans-serif;\n",
    "}\n",
    ".axis path,\n",
    ".axis line {\n",
    "fill: none;\n",
    "stroke: #000;\n",
    "}\n",
    ".x.axis path {\n",
    "display: none;\n",
    "}\n",
    "</style>\n",
    "<div id=\"chart_d3\" />\n",
    "\"\"\"))"
   ]
  },
  {
   "cell_type": "code",
   "execution_count": 37,
   "metadata": {
    "collapsed": true
   },
   "outputs": [],
   "source": [
    "import jinja2\n",
    "myTemplate = jinja2.Template(\"\"\"\n",
    "require([\"d3\"], function(d3){\n",
    "var data = []\n",
    "var data2 = []\n",
    "var data3 = []\n",
    "var data4 = []\n",
    "{% for row in data %}\n",
    "data.push({ 'state': '{{ row[1] }}', 'population': {{ row[2] }} });\n",
    "data2.push({ 'state': '{{ row[1] }}', 'population': {{ row[3] }} });\n",
    "data3.push({ 'state': '{{ row[1] }}', 'population': {{ row[4] }} });\n",
    "data4.push({ 'state': '{{ row[1] }}', 'population': {{ row[5] }} });\n",
    "{% endfor %}\n",
    "d3.select(\"#chart_d3 svg\").remove()\n",
    "var margin = {top: 20, right: 20, bottom: 30, left: 40},\n",
    "width = 800 - margin.left - margin.right,\n",
    "height = 400 - margin.top - margin.bottom;\n",
    "var x = d3.scale.ordinal()\n",
    ".rangeRoundBands([0, width], .25);\n",
    "var y = d3.scale.linear()\n",
    ".range([height, 0]);\n",
    "var xAxis = d3.svg.axis()\n",
    ".scale(x)\n",
    ".orient(\"bottom\");\n",
    "var yAxis = d3.svg.axis()\n",
    ".scale(y)\n",
    ".orient(\"left\")\n",
    ".ticks(10)\n",
    ".tickFormat(d3.format('.1s'));\n",
    "var svg = d3.select(\"#chart_d3\").append(\"svg\")\n",
    ".attr(\"width\", width + margin.left + margin.right)\n",
    ".attr(\"height\", height + margin.top + margin.bottom)\n",
    ".append(\"g\")\n",
    ".attr(\"transform\", \"translate(\" + margin.left + \",\" + margin.top + \")\");\n",
    "x.domain(data.map(function(d) { return d.state; }));\n",
    "y.domain([0, d3.max(data, function(d) { return d.population; })]);\n",
    "svg.append(\"g\")\n",
    ".attr(\"class\", \"x axis\")\n",
    ".attr(\"transform\", \"translate(0,\" + height + \")\")\n",
    ".call(xAxis);\n",
    "svg.append(\"g\")\n",
    ".attr(\"class\", \"y axis\")\n",
    ".call(yAxis)\n",
    ".append(\"text\")\n",
    ".attr(\"transform\", \"rotate(-90)\")\n",
    ".attr(\"y\", 6)\n",
    ".attr(\"dy\", \".71em\")\n",
    ".style(\"text-anchor\", \"end\")\n",
    ".text(\"Population\");\n",
    "svg.selectAll(\".bar2011\")\n",
    ".data(data)\n",
    ".enter().append(\"rect\")\n",
    ".attr(\"class\", \"bar2011\")\n",
    ".attr(\"x\", function(d) { return x(d.state); })\n",
    ".attr(\"width\", x.rangeBand()/4)\n",
    ".attr(\"y\", function(d) { return y(d.population); })\n",
    ".attr(\"height\", function(d) { return height - y(d.population); });\n",
    "svg.selectAll(\".bar2012\")\n",
    ".data(data2)\n",
    ".enter().append(\"rect\")\n",
    ".attr(\"class\", \"bar2012\")\n",
    ".attr(\"x\", function(d) { return (x(d.state)+x.rangeBand()/4); })\n",
    ".attr(\"width\", x.rangeBand()/4)\n",
    ".attr(\"y\", function(d) { return y(d.population); })\n",
    ".attr(\"height\", function(d) { return height - y(d.population); });\n",
    "svg.selectAll(\".bar2013\")\n",
    ".data(data3)\n",
    ".enter().append(\"rect\")\n",
    ".attr(\"class\", \"bar2013\")\n",
    ".attr(\"x\", function(d) { return (x(d.state)+2*x.rangeBand()/4); })\n",
    ".attr(\"width\", x.rangeBand()/4)\n",
    ".attr(\"y\", function(d) { return y(d.population); })\n",
    ".attr(\"height\", function(d) { return height - y(d.population); });\n",
    "svg.selectAll(\".bar2014\")\n",
    ".data(data4)\n",
    ".enter().append(\"rect\")\n",
    ".attr(\"class\", \"bar2014\")\n",
    ".attr(\"x\", function(d) { return (x(d.state)+3*x.rangeBand()/4); })\n",
    ".attr(\"width\", x.rangeBand()/4)\n",
    ".attr(\"y\", function(d) { return y(d.population); })\n",
    ".attr(\"height\", function(d) { return height - y(d.population); });\n",
    "});\n",
    "\"\"\");"
   ]
  },
  {
   "cell_type": "code",
   "execution_count": 39,
   "metadata": {},
   "outputs": [
    {
     "data": {
      "application/javascript": [
       "\n",
       "require([\"d3\"], function(d3){\n",
       "var data = []\n",
       "var data2 = []\n",
       "var data3 = []\n",
       "var data4 = []\n",
       "\n",
       "data.push({ 'state': 'California', 'population': 37701901 });\n",
       "data2.push({ 'state': 'California', 'population': 38062780 });\n",
       "data3.push({ 'state': 'California', 'population': 38431393 });\n",
       "data4.push({ 'state': 'California', 'population': 38802500 });\n",
       "\n",
       "data.push({ 'state': 'Texas', 'population': 25657477 });\n",
       "data2.push({ 'state': 'Texas', 'population': 26094422 });\n",
       "data3.push({ 'state': 'Texas', 'population': 26505637 });\n",
       "data4.push({ 'state': 'Texas', 'population': 26956958 });\n",
       "\n",
       "data.push({ 'state': 'Florida', 'population': 19107900 });\n",
       "data2.push({ 'state': 'Florida', 'population': 19355257 });\n",
       "data3.push({ 'state': 'Florida', 'population': 19600311 });\n",
       "data4.push({ 'state': 'Florida', 'population': 19893297 });\n",
       "\n",
       "data.push({ 'state': 'New York', 'population': 19521745 });\n",
       "data2.push({ 'state': 'New York', 'population': 19607140 });\n",
       "data3.push({ 'state': 'New York', 'population': 19695680 });\n",
       "data4.push({ 'state': 'New York', 'population': 19746227 });\n",
       "\n",
       "data.push({ 'state': 'Illinois', 'population': 12858725 });\n",
       "data2.push({ 'state': 'Illinois', 'population': 12873763 });\n",
       "data3.push({ 'state': 'Illinois', 'population': 12890552 });\n",
       "data4.push({ 'state': 'Illinois', 'population': 12880580 });\n",
       "\n",
       "d3.select(\"#chart_d3 svg\").remove()\n",
       "var margin = {top: 20, right: 20, bottom: 30, left: 40},\n",
       "width = 800 - margin.left - margin.right,\n",
       "height = 400 - margin.top - margin.bottom;\n",
       "var x = d3.scale.ordinal()\n",
       ".rangeRoundBands([0, width], .25);\n",
       "var y = d3.scale.linear()\n",
       ".range([height, 0]);\n",
       "var xAxis = d3.svg.axis()\n",
       ".scale(x)\n",
       ".orient(\"bottom\");\n",
       "var yAxis = d3.svg.axis()\n",
       ".scale(y)\n",
       ".orient(\"left\")\n",
       ".ticks(10)\n",
       ".tickFormat(d3.format('.1s'));\n",
       "var svg = d3.select(\"#chart_d3\").append(\"svg\")\n",
       ".attr(\"width\", width + margin.left + margin.right)\n",
       ".attr(\"height\", height + margin.top + margin.bottom)\n",
       ".append(\"g\")\n",
       ".attr(\"transform\", \"translate(\" + margin.left + \",\" + margin.top + \")\");\n",
       "x.domain(data.map(function(d) { return d.state; }));\n",
       "y.domain([0, d3.max(data, function(d) { return d.population; })]);\n",
       "svg.append(\"g\")\n",
       ".attr(\"class\", \"x axis\")\n",
       ".attr(\"transform\", \"translate(0,\" + height + \")\")\n",
       ".call(xAxis);\n",
       "svg.append(\"g\")\n",
       ".attr(\"class\", \"y axis\")\n",
       ".call(yAxis)\n",
       ".append(\"text\")\n",
       ".attr(\"transform\", \"rotate(-90)\")\n",
       ".attr(\"y\", 6)\n",
       ".attr(\"dy\", \".71em\")\n",
       ".style(\"text-anchor\", \"end\")\n",
       ".text(\"Population\");\n",
       "svg.selectAll(\".bar2011\")\n",
       ".data(data)\n",
       ".enter().append(\"rect\")\n",
       ".attr(\"class\", \"bar2011\")\n",
       ".attr(\"x\", function(d) { return x(d.state); })\n",
       ".attr(\"width\", x.rangeBand()/4)\n",
       ".attr(\"y\", function(d) { return y(d.population); })\n",
       ".attr(\"height\", function(d) { return height - y(d.population); });\n",
       "svg.selectAll(\".bar2012\")\n",
       ".data(data2)\n",
       ".enter().append(\"rect\")\n",
       ".attr(\"class\", \"bar2012\")\n",
       ".attr(\"x\", function(d) { return (x(d.state)+x.rangeBand()/4); })\n",
       ".attr(\"width\", x.rangeBand()/4)\n",
       ".attr(\"y\", function(d) { return y(d.population); })\n",
       ".attr(\"height\", function(d) { return height - y(d.population); });\n",
       "svg.selectAll(\".bar2013\")\n",
       ".data(data3)\n",
       ".enter().append(\"rect\")\n",
       ".attr(\"class\", \"bar2013\")\n",
       ".attr(\"x\", function(d) { return (x(d.state)+2*x.rangeBand()/4); })\n",
       ".attr(\"width\", x.rangeBand()/4)\n",
       ".attr(\"y\", function(d) { return y(d.population); })\n",
       ".attr(\"height\", function(d) { return height - y(d.population); });\n",
       "svg.selectAll(\".bar2014\")\n",
       ".data(data4)\n",
       ".enter().append(\"rect\")\n",
       ".attr(\"class\", \"bar2014\")\n",
       ".attr(\"x\", function(d) { return (x(d.state)+3*x.rangeBand()/4); })\n",
       ".attr(\"width\", x.rangeBand()/4)\n",
       ".attr(\"y\", function(d) { return y(d.population); })\n",
       ".attr(\"height\", function(d) { return height - y(d.population); });\n",
       "});"
      ],
      "text/plain": [
       "<IPython.core.display.Javascript object>"
      ]
     },
     "metadata": {},
     "output_type": "display_data"
    }
   ],
   "source": [
    "display(Javascript(myTemplate.render(\n",
    "data=states.sort_values(['POPESTIMATE2014'], ascending=False)[:5].itertuples()\n",
    ")))"
   ]
  },
  {
   "cell_type": "code",
   "execution_count": 40,
   "metadata": {},
   "outputs": [
    {
     "data": {
      "application/javascript": [
       "require.config({\n",
       "paths: {\n",
       "d3: '//cdnjs.cloudflare.com/ajax/libs/d3/3.5.5/d3.min',\n",
       "queue: '//cdnjs.cloudflare.com/ajax/libs/queue-async/1.0.7/queue.min',\n",
       "topojson: '//cdnjs.cloudflare.com/ajax/libs/topojson/1.6.19/topojson.min'\n",
       "}\n",
       "});"
      ],
      "text/plain": [
       "<IPython.core.display.Javascript object>"
      ]
     },
     "metadata": {},
     "output_type": "display_data"
    }
   ],
   "source": [
    "%%javascript\n",
    "require.config({\n",
    "paths: {\n",
    "d3: '//cdnjs.cloudflare.com/ajax/libs/d3/3.5.5/d3.min',\n",
    "queue: '//cdnjs.cloudflare.com/ajax/libs/queue-async/1.0.7/queue.min',\n",
    "topojson: '//cdnjs.cloudflare.com/ajax/libs/topojson/1.6.19/topojson.min'\n",
    "}\n",
    "});"
   ]
  },
  {
   "cell_type": "code",
   "execution_count": 41,
   "metadata": {},
   "outputs": [
    {
     "data": {
      "text/html": [
       "\n",
       "<style>\n",
       ".counties {\n",
       "fill: none;\n",
       "}\n",
       ".states {\n",
       "fill: none;\n",
       "stroke: #fff;\n",
       "stroke-linejoin: round;\n",
       "}\n",
       ".q0-9 { fill:rgb(247,251,255); }\n",
       ".q1-9 { fill:rgb(222,235,247); }\n",
       ".q2-9 { fill:rgb(198,219,239); }\n",
       ".q3-9 { fill:rgb(158,202,225); }\n",
       ".q4-9 { fill:rgb(107,174,214); }\n",
       ".q5-9 { fill:rgb(66,146,198); }\n",
       ".q6-9 { fill:rgb(33,113,181); }\n",
       ".q7-9 { fill:rgb(8,81,156); }\n",
       ".q8-9 { fill:rgb(8,48,107); }\n",
       "</style>\n",
       "<div id=\"choropleth\" />\n"
      ],
      "text/plain": [
       "<IPython.core.display.HTML object>"
      ]
     },
     "metadata": {},
     "output_type": "display_data"
    }
   ],
   "source": [
    "from IPython.core.display import display, Javascript, HTML\n",
    "display(HTML(\"\"\"\n",
    "<style>\n",
    ".counties {\n",
    "fill: none;\n",
    "}\n",
    ".states {\n",
    "fill: none;\n",
    "stroke: #fff;\n",
    "stroke-linejoin: round;\n",
    "}\n",
    ".q0-9 { fill:rgb(247,251,255); }\n",
    ".q1-9 { fill:rgb(222,235,247); }\n",
    ".q2-9 { fill:rgb(198,219,239); }\n",
    ".q3-9 { fill:rgb(158,202,225); }\n",
    ".q4-9 { fill:rgb(107,174,214); }\n",
    ".q5-9 { fill:rgb(66,146,198); }\n",
    ".q6-9 { fill:rgb(33,113,181); }\n",
    ".q7-9 { fill:rgb(8,81,156); }\n",
    ".q8-9 { fill:rgb(8,48,107); }\n",
    "</style>\n",
    "<div id=\"choropleth\" />\n",
    "\"\"\"))"
   ]
  },
  {
   "cell_type": "code",
   "execution_count": 42,
   "metadata": {
    "collapsed": true
   },
   "outputs": [],
   "source": [
    "import jinja2\n",
    "choropleth = jinja2.Template(\"\"\"\n",
    "require([\"d3\",\"queue\",\"topojson\"], function(d3,queue,topojson){\n",
    "// var data = []\n",
    "// {% for row in data %}\n",
    "// data.push({ 'state': '{{ row[1] }}', 'population': {{ row[2] }} });\n",
    "// {% endfor %}\n",
    "d3.select(\"#choropleth svg\").remove()\n",
    "var width = 960,\n",
    "height = 600;\n",
    "var rateById = d3.map();\n",
    "ar quantize = d3.scale.quantize()\n",
    ".domain([0, .15])\n",
    ".range(d3.range(9).map(function(i) { return \"q\" + i + \"-9\"; }));\n",
    "var projection = d3.geo.albersUsa()\n",
    ".scale(1280)\n",
    ".translate([width / 2, height / 2]);\n",
    "var path = d3.geo.path()\n",
    ".projection(projection);\n",
    "//row to modify\n",
    "var svg = d3.select(\"#choropleth\").append(\"svg\")\n",
    ".attr(\"width\", width)\n",
    ".attr(\"height\", height);\n",
    "queue()\n",
    ".defer(d3.json, \"us.json\")\n",
    ".defer(d3.tsv, \"unemployment.tsv\", function(d) { rateById.set(d.id, +d.rate); })\n",
    ".await(ready);\n",
    "function ready(error, us) {\n",
    "if (error) throw error;\n",
    "svg.append(\"g\")\n",
    ".attr(\"class\", \"counties\")\n",
    ".selectAll(\"path\")\n",
    ".data(topojson.feature(us, us.objects.counties).features)\n",
    ".enter().append(\"path\")\n",
    ".attr(\"class\", function(d) { return quantize(rateById.get(d.id)); })\n",
    ".attr(\"d\", path);\n",
    "svg.append(\"path\")\n",
    ".datum(topojson.mesh(us, us.objects.states, function(a, b) { return a !== b; }))\n",
    ".attr(\"class\", \"states\")\n",
    ".attr(\"d\", path);\n",
    "}\n",
    "});\n",
    "\"\"\");"
   ]
  },
  {
   "cell_type": "code",
   "execution_count": 43,
   "metadata": {},
   "outputs": [
    {
     "data": {
      "application/javascript": [
       "\n",
       "require([\"d3\",\"queue\",\"topojson\"], function(d3,queue,topojson){\n",
       "// var data = []\n",
       "// \n",
       "d3.select(\"#choropleth svg\").remove()\n",
       "var width = 960,\n",
       "height = 600;\n",
       "var rateById = d3.map();\n",
       "ar quantize = d3.scale.quantize()\n",
       ".domain([0, .15])\n",
       ".range(d3.range(9).map(function(i) { return \"q\" + i + \"-9\"; }));\n",
       "var projection = d3.geo.albersUsa()\n",
       ".scale(1280)\n",
       ".translate([width / 2, height / 2]);\n",
       "var path = d3.geo.path()\n",
       ".projection(projection);\n",
       "//row to modify\n",
       "var svg = d3.select(\"#choropleth\").append(\"svg\")\n",
       ".attr(\"width\", width)\n",
       ".attr(\"height\", height);\n",
       "queue()\n",
       ".defer(d3.json, \"us.json\")\n",
       ".defer(d3.tsv, \"unemployment.tsv\", function(d) { rateById.set(d.id, +d.rate); })\n",
       ".await(ready);\n",
       "function ready(error, us) {\n",
       "if (error) throw error;\n",
       "svg.append(\"g\")\n",
       ".attr(\"class\", \"counties\")\n",
       ".selectAll(\"path\")\n",
       ".data(topojson.feature(us, us.objects.counties).features)\n",
       ".enter().append(\"path\")\n",
       ".attr(\"class\", function(d) { return quantize(rateById.get(d.id)); })\n",
       ".attr(\"d\", path);\n",
       "svg.append(\"path\")\n",
       ".datum(topojson.mesh(us, us.objects.states, function(a, b) { return a !== b; }))\n",
       ".attr(\"class\", \"states\")\n",
       ".attr(\"d\", path);\n",
       "}\n",
       "});"
      ],
      "text/plain": [
       "<IPython.core.display.Javascript object>"
      ]
     },
     "metadata": {},
     "output_type": "display_data"
    }
   ],
   "source": [
    "display(Javascript(choropleth.render()))"
   ]
  },
  {
   "cell_type": "code",
   "execution_count": 45,
   "metadata": {},
   "outputs": [
    {
     "data": {
      "text/plain": [
       "(3142, 84)"
      ]
     },
     "execution_count": 45,
     "metadata": {},
     "output_type": "execute_result"
    }
   ],
   "source": [
    "pop2014_by_county = pop2014[pop2014.SUMLEV == 50]\n",
    "pop2014_by_county.shape"
   ]
  },
  {
   "cell_type": "code",
   "execution_count": 49,
   "metadata": {},
   "outputs": [
    {
     "data": {
      "text/plain": [
       "(252, 2)"
      ]
     },
     "execution_count": 49,
     "metadata": {},
     "output_type": "execute_result"
    }
   ],
   "source": [
    "# USJSONnames = pd.read_table(urlopen('http://bl.ocks.org/mbostock/raw/4090846/us-countynames.tsv'))\n",
    "USJSONnames = pd.read_table('world-country-names.tsv')\n",
    "USJSONnames.shape"
   ]
  },
  {
   "cell_type": "code",
   "execution_count": null,
   "metadata": {
    "collapsed": true
   },
   "outputs": [],
   "source": []
  }
 ],
 "metadata": {
  "kernelspec": {
   "display_name": "Python 3",
   "language": "python",
   "name": "python3"
  },
  "language_info": {
   "codemirror_mode": {
    "name": "ipython",
    "version": 3
   },
   "file_extension": ".py",
   "mimetype": "text/x-python",
   "name": "python",
   "nbconvert_exporter": "python",
   "pygments_lexer": "ipython3",
   "version": "3.6.3"
  }
 },
 "nbformat": 4,
 "nbformat_minor": 2
}
