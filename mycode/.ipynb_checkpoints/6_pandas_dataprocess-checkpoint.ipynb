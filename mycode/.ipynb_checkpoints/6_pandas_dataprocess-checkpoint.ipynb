{
 "cells": [
  {
   "cell_type": "markdown",
   "metadata": {},
   "source": [
    "# 第6章　深入pandas：数据处理　　117\n",
    "# 6.1　数据准备　　117\n",
    "合并"
   ]
  },
  {
   "cell_type": "code",
   "execution_count": 4,
   "metadata": {},
   "outputs": [
    {
     "name": "stdout",
     "output_type": "stream",
     "text": [
      "        id  price\n",
      "0     ball  12.33\n",
      "1   pencil  11.44\n",
      "2      pen  33.21\n",
      "3      mug  13.23\n",
      "4  ashtray  33.62\n",
      "\n",
      "   color      id\n",
      "0  white  pencil\n",
      "1    red  pencil\n",
      "2    red    ball\n",
      "3  black     pen\n",
      "\n",
      "       id  price  color\n",
      "0    ball  12.33    red\n",
      "1  pencil  11.44  white\n",
      "2  pencil  11.44    red\n",
      "3     pen  33.21  black\n"
     ]
    }
   ],
   "source": [
    "#merge是两个dataframe共同包含的项\n",
    "import numpy as np\n",
    "import pandas as pd\n",
    "frame1 = pd.DataFrame( {'id':['ball','pencil','pen','mug','ashtray'], 'price': [12.33,11.44,33.21,13.23,33.62]})\n",
    "print(frame1)\n",
    "print()\n",
    "frame2 = pd.DataFrame( {'id':['pencil','pencil','ball','pen'],'color': ['white','red','red','black']})\n",
    "print(frame2)\n",
    "print()\n",
    "temp = pd.merge(frame1,frame2)\n",
    "print(temp)"
   ]
  },
  {
   "cell_type": "code",
   "execution_count": 7,
   "metadata": {},
   "outputs": [
    {
     "name": "stdout",
     "output_type": "stream",
     "text": [
      "  brand  color       id\n",
      "0   OMG  white     ball\n",
      "1   ABC    red   pencil\n",
      "2   ABC    red      pen\n",
      "3   POD  black      mug\n",
      "4   POD  green  ashtray\n",
      "\n",
      "  brand      id\n",
      "0   OMG  pencil\n",
      "1   POD  pencil\n",
      "2   ABC    ball\n",
      "3   POD     pen\n",
      "\n",
      "Empty DataFrame\n",
      "Columns: [brand, color, id]\n",
      "Index: []\n",
      "\n",
      "  brand_x  color      id brand_y\n",
      "0     OMG  white    ball     ABC\n",
      "1     ABC    red  pencil     OMG\n",
      "2     ABC    red  pencil     POD\n",
      "3     ABC    red     pen     POD\n",
      "\n",
      "  brand  color     id_x    id_y\n",
      "0   OMG  white     ball  pencil\n",
      "1   ABC    red   pencil    ball\n",
      "2   ABC    red      pen    ball\n",
      "3   POD  black      mug  pencil\n",
      "4   POD  black      mug     pen\n",
      "5   POD  green  ashtray  pencil\n",
      "6   POD  green  ashtray     pen\n"
     ]
    }
   ],
   "source": [
    "frame1 = pd.DataFrame( {'id':['ball','pencil','pen','mug','ashtray'],\n",
    " 'color': ['white','red','red','black','green'],\n",
    " 'brand': ['OMG','ABC','ABC','POD','POD']})\n",
    "print(frame1)\n",
    "print()\n",
    "frame2 = pd.DataFrame( {'id':['pencil','pencil','ball','pen'],\n",
    " 'brand': ['OMG','POD','ABC','POD']})\n",
    "print(frame2)\n",
    "print()\n",
    "\n",
    "temp = pd.merge(frame1,frame2)\n",
    "print(temp)\n",
    "print()\n",
    "\n",
    "temp = pd.merge(frame1,frame2,on='id')\n",
    "print(temp)\n",
    "print()\n",
    "\n",
    "temp = pd.merge(frame1,frame2,on='brand')\n",
    "print(temp)"
   ]
  },
  {
   "cell_type": "code",
   "execution_count": 19,
   "metadata": {},
   "outputs": [
    {
     "name": "stdout",
     "output_type": "stream",
     "text": [
      "  brand  color       id\n",
      "0   OMG  white     ball\n",
      "1   ABC    red   pencil\n",
      "2   ABC    red      pen\n",
      "3   POD  black      mug\n",
      "4   POD  green  ashtray\n",
      "\n",
      "  brand     sid\n",
      "0   OMG  pencil\n",
      "1   POD  pencil\n",
      "2   ABC    ball\n",
      "3   POD     pen\n",
      "\n",
      "  brand_x  color      id brand_y     sid\n",
      "0     OMG  white    ball     ABC    ball\n",
      "1     ABC    red  pencil     OMG  pencil\n",
      "2     ABC    red  pencil     POD  pencil\n",
      "3     ABC    red     pen     POD     pen\n"
     ]
    }
   ],
   "source": [
    "print(frame1)\n",
    "print()\n",
    "frame2.columns = ['brand','sid']\n",
    "print(frame2)\n",
    "print()\n",
    "\n",
    "temp = pd.merge(frame1, frame2, left_on='id', right_on='sid')\n",
    "print(temp)"
   ]
  },
  {
   "cell_type": "code",
   "execution_count": 20,
   "metadata": {},
   "outputs": [
    {
     "name": "stdout",
     "output_type": "stream",
     "text": [
      "  brand_x  color      id brand_y\n",
      "0     OMG  white    ball     ABC\n",
      "1     ABC    red  pencil     OMG\n",
      "2     ABC    red  pencil     POD\n",
      "3     ABC    red     pen     POD\n"
     ]
    }
   ],
   "source": [
    "frame2.columns = ['brand','id']\n",
    "temp = pd.merge(frame1,frame2,on='id')\n",
    "print(temp)"
   ]
  },
  {
   "cell_type": "code",
   "execution_count": 21,
   "metadata": {},
   "outputs": [
    {
     "name": "stdout",
     "output_type": "stream",
     "text": [
      "  brand_x  color       id brand_y\n",
      "0     OMG  white     ball     ABC\n",
      "1     ABC    red   pencil     OMG\n",
      "2     ABC    red   pencil     POD\n",
      "3     ABC    red      pen     POD\n",
      "4     POD  black      mug     NaN\n",
      "5     POD  green  ashtray     NaN\n"
     ]
    }
   ],
   "source": [
    "temp = pd.merge(frame1,frame2,on='id',how='outer')\n",
    "print(temp)"
   ]
  },
  {
   "cell_type": "code",
   "execution_count": 22,
   "metadata": {},
   "outputs": [
    {
     "name": "stdout",
     "output_type": "stream",
     "text": [
      "  brand_x  color       id brand_y\n",
      "0     OMG  white     ball     ABC\n",
      "1     ABC    red   pencil     OMG\n",
      "2     ABC    red   pencil     POD\n",
      "3     ABC    red      pen     POD\n",
      "4     POD  black      mug     NaN\n",
      "5     POD  green  ashtray     NaN\n"
     ]
    }
   ],
   "source": [
    "temp = pd.merge(frame1,frame2,on='id',how='left')\n",
    "print(temp)"
   ]
  },
  {
   "cell_type": "code",
   "execution_count": 24,
   "metadata": {},
   "outputs": [
    {
     "name": "stdout",
     "output_type": "stream",
     "text": [
      "  brand_x  color      id brand_y\n",
      "0     OMG  white    ball     ABC\n",
      "1     ABC    red  pencil     OMG\n",
      "2     ABC    red  pencil     POD\n",
      "3     ABC    red     pen     POD\n"
     ]
    }
   ],
   "source": [
    "temp = pd.merge(frame1,frame2,on='id',how='right')\n",
    "print(temp)"
   ]
  },
  {
   "cell_type": "code",
   "execution_count": 25,
   "metadata": {},
   "outputs": [
    {
     "name": "stdout",
     "output_type": "stream",
     "text": [
      "  brand  color       id\n",
      "0   OMG  white     ball\n",
      "1   ABC    red   pencil\n",
      "2   ABC    red      pen\n",
      "3   POD  black      mug\n",
      "4   POD  green  ashtray\n",
      "5   OMG    NaN   pencil\n",
      "6   POD    NaN   pencil\n",
      "7   ABC    NaN     ball\n",
      "8   POD    NaN      pen\n"
     ]
    }
   ],
   "source": [
    "temp = pd.merge(frame1,frame2,on=['id','brand'],how='outer')\n",
    "print(temp)"
   ]
  },
  {
   "cell_type": "raw",
   "metadata": {},
   "source": [
    "根据索引合并"
   ]
  },
  {
   "cell_type": "code",
   "execution_count": 26,
   "metadata": {},
   "outputs": [
    {
     "name": "stdout",
     "output_type": "stream",
     "text": [
      "  brand_x  color    id_x brand_y    id_y\n",
      "0     OMG  white    ball     OMG  pencil\n",
      "1     ABC    red  pencil     POD  pencil\n",
      "2     ABC    red     pen     ABC    ball\n",
      "3     POD  black     mug     POD     pen\n"
     ]
    }
   ],
   "source": [
    "temp = pd.merge(frame1,frame2,right_index=True, left_index=True)  \n",
    "print(temp)"
   ]
  },
  {
   "cell_type": "code",
   "execution_count": 28,
   "metadata": {},
   "outputs": [
    {
     "name": "stdout",
     "output_type": "stream",
     "text": [
      "  brand  color       id brand2     id2\n",
      "0   OMG  white     ball    OMG  pencil\n",
      "1   ABC    red   pencil    POD  pencil\n",
      "2   ABC    red      pen    ABC    ball\n",
      "3   POD  black      mug    POD     pen\n",
      "4   POD  green  ashtray    NaN     NaN\n"
     ]
    }
   ],
   "source": [
    "frame2.columns = ['brand2','id2']\n",
    "temp = frame1.join(frame2)\n",
    "print(temp)"
   ]
  },
  {
   "cell_type": "markdown",
   "metadata": {},
   "source": [
    "# 6.2　拼接　　122"
   ]
  },
  {
   "cell_type": "code",
   "execution_count": 29,
   "metadata": {},
   "outputs": [
    {
     "data": {
      "text/plain": [
       "array([[0, 1, 2],\n",
       "       [3, 4, 5],\n",
       "       [6, 7, 8]])"
      ]
     },
     "execution_count": 29,
     "metadata": {},
     "output_type": "execute_result"
    }
   ],
   "source": [
    "array1 = np.arange(9).reshape((3,3))\n",
    "array1"
   ]
  },
  {
   "cell_type": "code",
   "execution_count": 30,
   "metadata": {},
   "outputs": [
    {
     "data": {
      "text/plain": [
       "array([[ 6,  7,  8],\n",
       "       [ 9, 10, 11],\n",
       "       [12, 13, 14]])"
      ]
     },
     "execution_count": 30,
     "metadata": {},
     "output_type": "execute_result"
    }
   ],
   "source": [
    "array2 = np.arange(9).reshape((3,3))+6\n",
    "array2"
   ]
  },
  {
   "cell_type": "code",
   "execution_count": 31,
   "metadata": {},
   "outputs": [
    {
     "data": {
      "text/plain": [
       "array([[ 0,  1,  2,  6,  7,  8],\n",
       "       [ 3,  4,  5,  9, 10, 11],\n",
       "       [ 6,  7,  8, 12, 13, 14]])"
      ]
     },
     "execution_count": 31,
     "metadata": {},
     "output_type": "execute_result"
    }
   ],
   "source": [
    "np.concatenate([array1,array2],axis=1)"
   ]
  },
  {
   "cell_type": "code",
   "execution_count": 32,
   "metadata": {},
   "outputs": [
    {
     "data": {
      "text/plain": [
       "array([[ 0,  1,  2],\n",
       "       [ 3,  4,  5],\n",
       "       [ 6,  7,  8],\n",
       "       [ 6,  7,  8],\n",
       "       [ 9, 10, 11],\n",
       "       [12, 13, 14]])"
      ]
     },
     "execution_count": 32,
     "metadata": {},
     "output_type": "execute_result"
    }
   ],
   "source": [
    "np.concatenate([array1,array2],axis=0)"
   ]
  },
  {
   "cell_type": "code",
   "execution_count": 33,
   "metadata": {},
   "outputs": [
    {
     "data": {
      "text/plain": [
       "1    0.480270\n",
       "2    0.440535\n",
       "3    0.378281\n",
       "4    0.799113\n",
       "dtype: float64"
      ]
     },
     "execution_count": 33,
     "metadata": {},
     "output_type": "execute_result"
    }
   ],
   "source": [
    "ser1 = pd.Series(np.random.rand(4), index=[1,2,3,4])\n",
    "ser1"
   ]
  },
  {
   "cell_type": "code",
   "execution_count": 35,
   "metadata": {},
   "outputs": [
    {
     "data": {
      "text/plain": [
       "5    0.134120\n",
       "6    0.703728\n",
       "7    0.657262\n",
       "8    0.020803\n",
       "dtype: float64"
      ]
     },
     "execution_count": 35,
     "metadata": {},
     "output_type": "execute_result"
    }
   ],
   "source": [
    "ser2 = pd.Series(np.random.rand(4), index=[5,6,7,8])\n",
    "ser2"
   ]
  },
  {
   "cell_type": "code",
   "execution_count": 36,
   "metadata": {},
   "outputs": [
    {
     "name": "stdout",
     "output_type": "stream",
     "text": [
      "1    0.444507\n",
      "2    0.690626\n",
      "3    0.595412\n",
      "4    0.030619\n",
      "5    0.134120\n",
      "6    0.703728\n",
      "7    0.657262\n",
      "8    0.020803\n",
      "dtype: float64\n"
     ]
    }
   ],
   "source": [
    "temp = pd.concat([ser1,ser2])\n",
    "print(temp)"
   ]
  },
  {
   "cell_type": "code",
   "execution_count": 41,
   "metadata": {},
   "outputs": [
    {
     "name": "stdout",
     "output_type": "stream",
     "text": [
      "          0         1\n",
      "1  0.444507       NaN\n",
      "2  0.690626       NaN\n",
      "3  0.595412       NaN\n",
      "4  0.030619       NaN\n",
      "5       NaN  0.134120\n",
      "6       NaN  0.703728\n",
      "7       NaN  0.657262\n",
      "8       NaN  0.020803\n"
     ]
    }
   ],
   "source": [
    "ser3 = pd.concat([ser1,ser2],axis=1)\n",
    "print(ser3)"
   ]
  },
  {
   "cell_type": "code",
   "execution_count": 43,
   "metadata": {},
   "outputs": [
    {
     "name": "stdout",
     "output_type": "stream",
     "text": [
      "          0         0   1\n",
      "1  0.444507  0.444507 NaN\n",
      "2  0.690626  0.690626 NaN\n",
      "3  0.595412  0.595412 NaN\n",
      "4  0.030619  0.030619 NaN\n"
     ]
    }
   ],
   "source": [
    "temp = pd.concat([ser1,ser3],axis=1,join='inner')\n",
    "print(temp)"
   ]
  },
  {
   "cell_type": "code",
   "execution_count": 44,
   "metadata": {},
   "outputs": [
    {
     "name": "stdout",
     "output_type": "stream",
     "text": [
      "1  1    0.444507\n",
      "   2    0.690626\n",
      "   3    0.595412\n",
      "   4    0.030619\n",
      "2  5    0.134120\n",
      "   6    0.703728\n",
      "   7    0.657262\n",
      "   8    0.020803\n",
      "dtype: float64\n"
     ]
    }
   ],
   "source": [
    "temp = pd.concat([ser1,ser2], keys=[1,2])\n",
    "print(temp)"
   ]
  },
  {
   "cell_type": "code",
   "execution_count": 45,
   "metadata": {},
   "outputs": [
    {
     "name": "stdout",
     "output_type": "stream",
     "text": [
      "          1         2\n",
      "1  0.444507       NaN\n",
      "2  0.690626       NaN\n",
      "3  0.595412       NaN\n",
      "4  0.030619       NaN\n",
      "5       NaN  0.134120\n",
      "6       NaN  0.703728\n",
      "7       NaN  0.657262\n",
      "8       NaN  0.020803\n"
     ]
    }
   ],
   "source": [
    "temp = pd.concat([ser1,ser2], axis=1, keys=[1,2])\n",
    "print(temp)"
   ]
  },
  {
   "cell_type": "code",
   "execution_count": 46,
   "metadata": {},
   "outputs": [
    {
     "name": "stdout",
     "output_type": "stream",
     "text": [
      "          A         B         C\n",
      "1  0.918894  0.884497  0.451266\n",
      "2  0.990586  0.412664  0.289380\n",
      "3  0.058831  0.746895  0.911668\n",
      "\n",
      "          A         B         C\n",
      "4  0.256936  0.837374  0.677940\n",
      "5  0.379119  0.453602  0.858519\n",
      "6  0.832512  0.736023  0.583485\n",
      "\n",
      "          A         B         C\n",
      "1  0.918894  0.884497  0.451266\n",
      "2  0.990586  0.412664  0.289380\n",
      "3  0.058831  0.746895  0.911668\n",
      "4  0.256936  0.837374  0.677940\n",
      "5  0.379119  0.453602  0.858519\n",
      "6  0.832512  0.736023  0.583485\n"
     ]
    }
   ],
   "source": [
    "frame1 = pd.DataFrame(np.random.rand(9).reshape(3,3), index=[1,2,3], columns=['A','B','C'])\n",
    "print(frame1)\n",
    "print()\n",
    "frame2 = pd.DataFrame(np.random.rand(9).reshape(3,3), index=[4,5,6], columns=['A','B','C'])\n",
    "print(frame2)\n",
    "print()\n",
    "temp = pd.concat([frame1, frame2])\n",
    "print(temp)"
   ]
  },
  {
   "cell_type": "code",
   "execution_count": 47,
   "metadata": {},
   "outputs": [
    {
     "name": "stdout",
     "output_type": "stream",
     "text": [
      "          A         B         C         A         B         C\n",
      "1  0.918894  0.884497  0.451266       NaN       NaN       NaN\n",
      "2  0.990586  0.412664  0.289380       NaN       NaN       NaN\n",
      "3  0.058831  0.746895  0.911668       NaN       NaN       NaN\n",
      "4       NaN       NaN       NaN  0.256936  0.837374  0.677940\n",
      "5       NaN       NaN       NaN  0.379119  0.453602  0.858519\n",
      "6       NaN       NaN       NaN  0.832512  0.736023  0.583485\n"
     ]
    }
   ],
   "source": [
    "temp = pd.concat([frame1, frame2], axis=1)\n",
    "print(temp)"
   ]
  },
  {
   "cell_type": "markdown",
   "metadata": {},
   "source": [
    "## 6.2.1　组合　　124"
   ]
  },
  {
   "cell_type": "code",
   "execution_count": 49,
   "metadata": {},
   "outputs": [
    {
     "name": "stdout",
     "output_type": "stream",
     "text": [
      "1    0.598971\n",
      "2    0.143975\n",
      "3    0.080446\n",
      "4    0.437893\n",
      "5    0.033583\n",
      "dtype: float64\n",
      "\n",
      "2    0.326416\n",
      "4    0.732483\n",
      "5    0.476231\n",
      "6    0.468597\n",
      "dtype: float64\n",
      "\n",
      "1    0.598971\n",
      "2    0.143975\n",
      "3    0.080446\n",
      "4    0.437893\n",
      "5    0.033583\n",
      "6    0.468597\n",
      "dtype: float64\n"
     ]
    }
   ],
   "source": [
    "ser1 = pd.Series(np.random.rand(5),index=[1,2,3,4,5])\n",
    "print(ser1)\n",
    "print()\n",
    "ser2 = pd.Series(np.random.rand(4),index=[2,4,5,6])\n",
    "print(ser2)\n",
    "print()\n",
    "temp = ser1.combine_first(ser2)\n",
    "print(temp)"
   ]
  },
  {
   "cell_type": "code",
   "execution_count": 50,
   "metadata": {},
   "outputs": [
    {
     "name": "stdout",
     "output_type": "stream",
     "text": [
      "1    0.598971\n",
      "2    0.326416\n",
      "3    0.080446\n",
      "4    0.732483\n",
      "5    0.476231\n",
      "6    0.468597\n",
      "dtype: float64\n"
     ]
    }
   ],
   "source": [
    "temp = ser2.combine_first(ser1)\n",
    "print(temp)"
   ]
  },
  {
   "cell_type": "code",
   "execution_count": 51,
   "metadata": {},
   "outputs": [
    {
     "name": "stdout",
     "output_type": "stream",
     "text": [
      "1    0.598971\n",
      "2    0.143975\n",
      "3    0.080446\n",
      "4    0.732483\n",
      "5    0.476231\n",
      "dtype: float64\n"
     ]
    }
   ],
   "source": [
    "temp = ser1[:3].combine_first(ser2[:3])\n",
    "print(temp)"
   ]
  },
  {
   "cell_type": "markdown",
   "metadata": {},
   "source": [
    "## 6.2.2　轴向旋转　　125\n",
    "### 按等级索引旋转"
   ]
  },
  {
   "cell_type": "code",
   "execution_count": 53,
   "metadata": {},
   "outputs": [
    {
     "name": "stdout",
     "output_type": "stream",
     "text": [
      "       ball  pen  pencil\n",
      "white     0    1       2\n",
      "black     3    4       5\n",
      "red       6    7       8\n"
     ]
    },
    {
     "data": {
      "text/plain": [
       "white  ball      0\n",
       "       pen       1\n",
       "       pencil    2\n",
       "black  ball      3\n",
       "       pen       4\n",
       "       pencil    5\n",
       "red    ball      6\n",
       "       pen       7\n",
       "       pencil    8\n",
       "dtype: int32"
      ]
     },
     "execution_count": 53,
     "metadata": {},
     "output_type": "execute_result"
    }
   ],
   "source": [
    "frame1 = pd.DataFrame(np.arange(9).reshape(3,3),\n",
    "index=['white','black','red'],\n",
    "columns=['ball','pen','pencil'])\n",
    "print(frame1)\n",
    "ser5 = frame1.stack()\n",
    "ser5"
   ]
  },
  {
   "cell_type": "code",
   "execution_count": 55,
   "metadata": {},
   "outputs": [
    {
     "name": "stdout",
     "output_type": "stream",
     "text": [
      "       ball  pen  pencil\n",
      "white     0    1       2\n",
      "black     3    4       5\n",
      "red       6    7       8\n"
     ]
    }
   ],
   "source": [
    "temp = ser5.unstack()\n",
    "print(temp)"
   ]
  },
  {
   "cell_type": "code",
   "execution_count": 56,
   "metadata": {},
   "outputs": [
    {
     "name": "stdout",
     "output_type": "stream",
     "text": [
      "        white  black  red\n",
      "ball        0      3    6\n",
      "pen         1      4    7\n",
      "pencil      2      5    8\n"
     ]
    }
   ],
   "source": [
    "temp = ser5.unstack(0)\n",
    "print(temp)"
   ]
  },
  {
   "cell_type": "markdown",
   "metadata": {},
   "source": [
    "### 从长格式向宽格式旋转"
   ]
  },
  {
   "cell_type": "code",
   "execution_count": 57,
   "metadata": {},
   "outputs": [
    {
     "name": "stdout",
     "output_type": "stream",
     "text": [
      "   color  item     value\n",
      "0  white  ball  0.905908\n",
      "1  white   pen  0.476735\n",
      "2  white   mug  0.569165\n",
      "3    red  ball  0.483042\n",
      "4    red   pen  0.663438\n",
      "5    red   mug  0.866178\n",
      "6  black  ball  0.752131\n",
      "7  black   pen  0.616940\n",
      "8  black   mug  0.713100\n"
     ]
    }
   ],
   "source": [
    "longframe = pd.DataFrame({ 'color':['white','white','white',\n",
    " 'red','red','red',\n",
    " 'black','black','black'],\n",
    " 'item':['ball','pen','mug',\n",
    " 'ball','pen','mug',\n",
    " 'ball','pen','mug'],\n",
    " 'value': np.random.rand(9)})\n",
    "print(longframe)"
   ]
  },
  {
   "cell_type": "code",
   "execution_count": 59,
   "metadata": {},
   "outputs": [
    {
     "name": "stdout",
     "output_type": "stream",
     "text": [
      "          value                    \n",
      "item       ball       mug       pen\n",
      "color                              \n",
      "black  0.752131  0.713100  0.616940\n",
      "red    0.483042  0.866178  0.663438\n",
      "white  0.905908  0.569165  0.476735\n"
     ]
    }
   ],
   "source": [
    "wideframe = longframe.pivot('color','item')\n",
    "print(wideframe)"
   ]
  },
  {
   "cell_type": "markdown",
   "metadata": {},
   "source": [
    "## 6.2.3　删除　　127"
   ]
  },
  {
   "cell_type": "code",
   "execution_count": 61,
   "metadata": {},
   "outputs": [
    {
     "name": "stdout",
     "output_type": "stream",
     "text": [
      "       ball  pen  pencil\n",
      "white     0    1       2\n",
      "black     3    4       5\n",
      "red       6    7       8\n",
      "       pen  pencil\n",
      "white    1       2\n",
      "black    4       5\n",
      "red      7       8\n",
      "       pen  pencil\n",
      "black    4       5\n",
      "red      7       8\n",
      "       pen  pencil\n",
      "white    1       2\n",
      "black    4       5\n",
      "red      7       8\n"
     ]
    }
   ],
   "source": [
    "frame1 = pd.DataFrame(np.arange(9).reshape(3,3),\n",
    " index=['white','black','red'],\n",
    " columns=['ball','pen','pencil'])\n",
    "print(frame1)\n",
    "del frame1['ball']\n",
    "print(frame1)\n",
    "temp = frame1.drop('white')\n",
    "print(temp)\n",
    "print(frame1)"
   ]
  },
  {
   "cell_type": "markdown",
   "metadata": {},
   "source": [
    "# 6.3　数据转换　　128\n",
    "## 6.3.1　删除重复元素　　128"
   ]
  },
  {
   "cell_type": "code",
   "execution_count": 62,
   "metadata": {},
   "outputs": [
    {
     "name": "stdout",
     "output_type": "stream",
     "text": [
      "   color  value\n",
      "0  white      2\n",
      "1  white      1\n",
      "2    red      3\n",
      "3    red      3\n",
      "4  white      2\n",
      "0    False\n",
      "1    False\n",
      "2    False\n",
      "3     True\n",
      "4     True\n",
      "dtype: bool\n",
      "   color  value\n",
      "3    red      3\n",
      "4  white      2\n"
     ]
    }
   ],
   "source": [
    "dframe = pd.DataFrame({ 'color': ['white','white','red','red','white'],\n",
    " 'value': [2,1,3,3,2]})\n",
    "print(dframe)\n",
    "temp = dframe.duplicated()\n",
    "print(temp)\n",
    "temp = dframe[dframe.duplicated()]\n",
    "print(temp)"
   ]
  },
  {
   "cell_type": "markdown",
   "metadata": {},
   "source": [
    "## 6.3.2　映射　　129\n",
    "### 用映射替换元素"
   ]
  },
  {
   "cell_type": "code",
   "execution_count": 63,
   "metadata": {},
   "outputs": [
    {
     "name": "stdout",
     "output_type": "stream",
     "text": [
      "    color     item  price\n",
      "0   white     ball   5.56\n",
      "1   rosso      mug   4.20\n",
      "2   verde      pen   1.30\n",
      "3   black   pencil   0.56\n",
      "4  yellow  ashtray   2.75\n",
      "    color     item  price\n",
      "0   white     ball   5.56\n",
      "1     red      mug   4.20\n",
      "2   green      pen   1.30\n",
      "3   black   pencil   0.56\n",
      "4  yellow  ashtray   2.75\n"
     ]
    }
   ],
   "source": [
    "frame = pd.DataFrame({ 'item':['ball','mug','pen','pencil','ashtray'],\n",
    " 'color':['white','rosso','verde','black','yellow'],\n",
    "'price':[5.56,4.20,1.30,0.56,2.75]})\n",
    "print(frame)\n",
    "newcolors = {\n",
    " 'rosso': 'red',\n",
    " 'verde': 'green'\n",
    " }\n",
    "temp = frame.replace(newcolors)\n",
    "print(temp)"
   ]
  },
  {
   "cell_type": "code",
   "execution_count": 64,
   "metadata": {},
   "outputs": [
    {
     "name": "stdout",
     "output_type": "stream",
     "text": [
      "0    1.0\n",
      "1    3.0\n",
      "2    NaN\n",
      "3    4.0\n",
      "4    6.0\n",
      "5    NaN\n",
      "6    3.0\n",
      "dtype: float64\n",
      "0    1.0\n",
      "1    3.0\n",
      "2    0.0\n",
      "3    4.0\n",
      "4    6.0\n",
      "5    0.0\n",
      "6    3.0\n",
      "dtype: float64\n"
     ]
    }
   ],
   "source": [
    "ser = pd.Series([1,3,np.nan,4,6,np.nan,3])\n",
    "print(ser)\n",
    "temp = ser.replace(np.nan,0)\n",
    "print(temp)"
   ]
  },
  {
   "cell_type": "markdown",
   "metadata": {},
   "source": [
    "### 用映射添加元素"
   ]
  },
  {
   "cell_type": "code",
   "execution_count": 66,
   "metadata": {},
   "outputs": [
    {
     "name": "stdout",
     "output_type": "stream",
     "text": [
      "    color     item\n",
      "0   white     ball\n",
      "1     red      mug\n",
      "2   green      pen\n",
      "3   black   pencil\n",
      "4  yellow  ashtray\n",
      "    color     item  price\n",
      "0   white     ball   5.56\n",
      "1     red      mug   4.20\n",
      "2   green      pen   1.30\n",
      "3   black   pencil   0.56\n",
      "4  yellow  ashtray   2.75\n"
     ]
    }
   ],
   "source": [
    "frame = pd.DataFrame({ 'item':['ball','mug','pen','pencil','ashtray'],\n",
    " 'color':['white','red','green','black','yellow']})\n",
    "print(frame)\n",
    "price = {\n",
    " 'ball' : 5.56,\n",
    " 'mug' : 4.20,\n",
    " 'bottle' : 1.30,\n",
    " 'scissors' : 3.41,\n",
    " 'pen' : 1.30,\n",
    " 'pencil' : 0.56,\n",
    " 'ashtray' : 2.75\n",
    " }\n",
    "frame['price'] = frame['item'].map(price)\n",
    "print(frame)"
   ]
  },
  {
   "cell_type": "markdown",
   "metadata": {},
   "source": [
    "### 重命名轴索引"
   ]
  },
  {
   "cell_type": "code",
   "execution_count": 67,
   "metadata": {},
   "outputs": [
    {
     "name": "stdout",
     "output_type": "stream",
     "text": [
      "         color     item  price\n",
      "first    white     ball   5.56\n",
      "second     red      mug   4.20\n",
      "third    green      pen   1.30\n",
      "fourth   black   pencil   0.56\n",
      "fifth   yellow  ashtray   2.75\n"
     ]
    }
   ],
   "source": [
    "reindex = {\n",
    " 0: 'first',\n",
    " 1: 'second',\n",
    " 2: 'third',\n",
    " 3: 'fourth',\n",
    " 4: 'fifth'}\n",
    "temp = frame.rename(reindex)\n",
    "print(temp)"
   ]
  },
  {
   "cell_type": "code",
   "execution_count": 68,
   "metadata": {},
   "outputs": [
    {
     "name": "stdout",
     "output_type": "stream",
     "text": [
      "         color   object  value\n",
      "first    white     ball   5.56\n",
      "second     red      mug   4.20\n",
      "third    green      pen   1.30\n",
      "fourth   black   pencil   0.56\n",
      "fifth   yellow  ashtray   2.75\n"
     ]
    }
   ],
   "source": [
    "recolumn = {\n",
    " 'item':'object',\n",
    " 'price': 'value'}\n",
    "temp = frame.rename(index=reindex, columns=recolumn)\n",
    "print(temp)"
   ]
  },
  {
   "cell_type": "code",
   "execution_count": 77,
   "metadata": {},
   "outputs": [
    {
     "name": "stdout",
     "output_type": "stream",
     "text": [
      "        color   object  price\n",
      "0       white     ball   5.56\n",
      "first     red      mug   4.20\n",
      "2       green      pen   1.30\n",
      "3       black   pencil   0.56\n",
      "4      yellow  ashtray   2.75\n"
     ]
    }
   ],
   "source": [
    "temp = frame.rename(index={1:'first'}, columns={'item':'object'})\n",
    "print(temp)"
   ]
  },
  {
   "cell_type": "markdown",
   "metadata": {},
   "source": [
    "# 6.4　离散化和面元划分　　132"
   ]
  },
  {
   "cell_type": "code",
   "execution_count": 79,
   "metadata": {},
   "outputs": [
    {
     "data": {
      "text/plain": [
       "[(0, 25], (25, 50], (50, 75], (50, 75], (25, 50], ..., (75, 100], (0, 25], (25, 50], (75, 100], (75, 100]]\n",
       "Length: 17\n",
       "Categories (4, interval[int64]): [(0, 25] < (25, 50] < (50, 75] < (75, 100]]"
      ]
     },
     "execution_count": 79,
     "metadata": {},
     "output_type": "execute_result"
    }
   ],
   "source": [
    "results = [12,34,67,55,28,90,99,12,3,56,74,44,87,23,49,89,87]\n",
    "bins = [0,25,50,75,100]\n",
    "cat = pd.cut(results, bins)\n",
    "cat"
   ]
  },
  {
   "cell_type": "code",
   "execution_count": 83,
   "metadata": {},
   "outputs": [
    {
     "name": "stderr",
     "output_type": "stream",
     "text": [
      "D:\\ProgramData\\Anaconda3_32\\lib\\site-packages\\ipykernel_launcher.py:1: FutureWarning: 'labels' is deprecated. Use 'codes' instead\n",
      "  \"\"\"Entry point for launching an IPython kernel.\n"
     ]
    },
    {
     "data": {
      "text/plain": [
       "array([0, 1, 2, 2, 1, 3, 3, 0, 0, 2, 2, 1, 3, 0, 1, 3, 3], dtype=int8)"
      ]
     },
     "execution_count": 83,
     "metadata": {},
     "output_type": "execute_result"
    }
   ],
   "source": [
    "cat.labels"
   ]
  },
  {
   "cell_type": "code",
   "execution_count": 85,
   "metadata": {},
   "outputs": [
    {
     "data": {
      "text/plain": [
       "(75, 100]    5\n",
       "(50, 75]     4\n",
       "(25, 50]     4\n",
       "(0, 25]      4\n",
       "dtype: int64"
      ]
     },
     "execution_count": 85,
     "metadata": {},
     "output_type": "execute_result"
    }
   ],
   "source": [
    "pd.value_counts(cat)"
   ]
  },
  {
   "cell_type": "code",
   "execution_count": 86,
   "metadata": {},
   "outputs": [
    {
     "data": {
      "text/plain": [
       "[unlikely, less likely, likely, likely, less likely, ..., highly likely, unlikely, less likely, highly likely, highly likely]\n",
       "Length: 17\n",
       "Categories (4, object): [unlikely < less likely < likely < highly likely]"
      ]
     },
     "execution_count": 86,
     "metadata": {},
     "output_type": "execute_result"
    }
   ],
   "source": [
    "bin_names = ['unlikely','less likely','likely','highly likely']\n",
    "pd.cut(results, bins, labels=bin_names)"
   ]
  },
  {
   "cell_type": "code",
   "execution_count": 87,
   "metadata": {},
   "outputs": [
    {
     "data": {
      "text/plain": [
       "[(2.904, 22.2], (22.2, 41.4], (60.6, 79.8], (41.4, 60.6], (22.2, 41.4], ..., (79.8, 99.0], (22.2, 41.4], (41.4, 60.6], (79.8, 99.0], (79.8, 99.0]]\n",
       "Length: 17\n",
       "Categories (5, interval[float64]): [(2.904, 22.2] < (22.2, 41.4] < (41.4, 60.6] < (60.6, 79.8] < (79.8, 99.0]]"
      ]
     },
     "execution_count": 87,
     "metadata": {},
     "output_type": "execute_result"
    }
   ],
   "source": [
    "pd.cut(results, 5)"
   ]
  },
  {
   "cell_type": "code",
   "execution_count": 88,
   "metadata": {},
   "outputs": [
    {
     "data": {
      "text/plain": [
       "[(2.999, 24.0], (24.0, 46.0], (62.6, 87.0], (46.0, 62.6], (24.0, 46.0], ..., (62.6, 87.0], (2.999, 24.0], (46.0, 62.6], (87.0, 99.0], (62.6, 87.0]]\n",
       "Length: 17\n",
       "Categories (5, interval[float64]): [(2.999, 24.0] < (24.0, 46.0] < (46.0, 62.6] < (62.6, 87.0] < (87.0, 99.0]]"
      ]
     },
     "execution_count": 88,
     "metadata": {},
     "output_type": "execute_result"
    }
   ],
   "source": [
    "quintiles = pd.qcut(results, 5)\n",
    "quintiles"
   ]
  },
  {
   "cell_type": "code",
   "execution_count": 89,
   "metadata": {},
   "outputs": [
    {
     "data": {
      "text/plain": [
       "(62.6, 87.0]     4\n",
       "(2.999, 24.0]    4\n",
       "(87.0, 99.0]     3\n",
       "(46.0, 62.6]     3\n",
       "(24.0, 46.0]     3\n",
       "dtype: int64"
      ]
     },
     "execution_count": 89,
     "metadata": {},
     "output_type": "execute_result"
    }
   ],
   "source": [
    "pd.value_counts(quintiles)"
   ]
  },
  {
   "cell_type": "markdown",
   "metadata": {},
   "source": [
    "### 异常值检测和过滤"
   ]
  },
  {
   "cell_type": "code",
   "execution_count": 91,
   "metadata": {},
   "outputs": [
    {
     "name": "stdout",
     "output_type": "stream",
     "text": [
      "                 0            1            2\n",
      "count  1000.000000  1000.000000  1000.000000\n",
      "mean     -0.017081     0.009233    -0.016035\n",
      "std       0.983899     0.986440     0.961825\n",
      "min      -3.834283    -3.725847    -2.810249\n",
      "25%      -0.651448    -0.645679    -0.674606\n",
      "50%      -0.031185     0.004074    -0.006893\n",
      "75%       0.633531     0.721898     0.669395\n",
      "max       3.006011     3.018671     3.290535\n"
     ]
    }
   ],
   "source": [
    "randframe = pd.DataFrame(np.random.randn(1000,3))\n",
    "temp = randframe.describe()\n",
    "print(temp)"
   ]
  },
  {
   "cell_type": "code",
   "execution_count": 92,
   "metadata": {},
   "outputs": [
    {
     "data": {
      "text/plain": [
       "0    0.983899\n",
       "1    0.986440\n",
       "2    0.961825\n",
       "dtype: float64"
      ]
     },
     "execution_count": 92,
     "metadata": {},
     "output_type": "execute_result"
    }
   ],
   "source": [
    "randframe.std()"
   ]
  },
  {
   "cell_type": "code",
   "execution_count": 94,
   "metadata": {},
   "outputs": [
    {
     "name": "stdout",
     "output_type": "stream",
     "text": [
      "            0         1         2\n",
      "66  -1.552807  1.813374  3.141080\n",
      "169 -1.154864 -3.725847 -0.647544\n",
      "226 -3.411732  1.907356 -0.004208\n",
      "426  3.006011  0.554358  0.687883\n",
      "457 -1.282513 -1.312958  3.290535\n",
      "465 -3.834283 -0.310886  1.280224\n",
      "748  2.977327 -0.937580  0.361383\n",
      "764 -0.000591  3.018671 -1.180475\n"
     ]
    }
   ],
   "source": [
    "temp = randframe[(np.abs(randframe) > (3*randframe.std())).any(1)]\n",
    "print(temp)"
   ]
  },
  {
   "cell_type": "markdown",
   "metadata": {},
   "source": [
    "# 6.5　排序　　136"
   ]
  },
  {
   "cell_type": "code",
   "execution_count": 96,
   "metadata": {},
   "outputs": [
    {
     "name": "stdout",
     "output_type": "stream",
     "text": [
      "    0   1   2   3   4\n",
      "0   0   1   2   3   4\n",
      "1   5   6   7   8   9\n",
      "2  10  11  12  13  14\n",
      "3  15  16  17  18  19\n",
      "4  20  21  22  23  24\n"
     ]
    }
   ],
   "source": [
    "nframe = pd.DataFrame(np.arange(25).reshape(5,5))\n",
    "print(nframe)"
   ]
  },
  {
   "cell_type": "code",
   "execution_count": 99,
   "metadata": {},
   "outputs": [
    {
     "name": "stdout",
     "output_type": "stream",
     "text": [
      "[4 2 1 3 0]\n"
     ]
    }
   ],
   "source": [
    "new_order = np.random.permutation(5)\n",
    "print(new_order)"
   ]
  },
  {
   "cell_type": "code",
   "execution_count": 100,
   "metadata": {},
   "outputs": [
    {
     "name": "stdout",
     "output_type": "stream",
     "text": [
      "    0   1   2   3   4\n",
      "4  20  21  22  23  24\n",
      "2  10  11  12  13  14\n",
      "1   5   6   7   8   9\n",
      "3  15  16  17  18  19\n",
      "0   0   1   2   3   4\n"
     ]
    }
   ],
   "source": [
    "temp = nframe.take(new_order)\n",
    "print(temp)"
   ]
  },
  {
   "cell_type": "code",
   "execution_count": 101,
   "metadata": {},
   "outputs": [
    {
     "name": "stdout",
     "output_type": "stream",
     "text": [
      "    0   1   2   3   4\n",
      "3  15  16  17  18  19\n",
      "4  20  21  22  23  24\n",
      "2  10  11  12  13  14\n"
     ]
    }
   ],
   "source": [
    "new_order = [3,4,2]\n",
    "temp = nframe.take(new_order)\n",
    "print(temp)"
   ]
  },
  {
   "cell_type": "markdown",
   "metadata": {},
   "source": [
    "### 随机取样"
   ]
  },
  {
   "cell_type": "code",
   "execution_count": 102,
   "metadata": {},
   "outputs": [
    {
     "data": {
      "text/plain": [
       "array([3, 3, 3])"
      ]
     },
     "execution_count": 102,
     "metadata": {},
     "output_type": "execute_result"
    }
   ],
   "source": [
    "sample = np.random.randint(0, len(nframe), size=3)\n",
    "sample"
   ]
  },
  {
   "cell_type": "code",
   "execution_count": 104,
   "metadata": {},
   "outputs": [
    {
     "name": "stdout",
     "output_type": "stream",
     "text": [
      "    0   1   2   3   4\n",
      "3  15  16  17  18  19\n",
      "3  15  16  17  18  19\n",
      "3  15  16  17  18  19\n"
     ]
    }
   ],
   "source": [
    "temp = nframe.take(sample)\n",
    "print(temp)"
   ]
  },
  {
   "cell_type": "markdown",
   "metadata": {},
   "source": [
    "# 6.6　字符串处理　　137\n",
    "## 6.6.1　内置的字符串处理方法　　137"
   ]
  },
  {
   "cell_type": "code",
   "execution_count": 105,
   "metadata": {},
   "outputs": [
    {
     "data": {
      "text/plain": [
       "['16 Bolton Avenue ', ' Boston']"
      ]
     },
     "execution_count": 105,
     "metadata": {},
     "output_type": "execute_result"
    }
   ],
   "source": [
    "text = '16 Bolton Avenue , Boston'\n",
    "text.split(',')"
   ]
  },
  {
   "cell_type": "code",
   "execution_count": 106,
   "metadata": {},
   "outputs": [
    {
     "data": {
      "text/plain": [
       "['16 Bolton Avenue', 'Boston']"
      ]
     },
     "execution_count": 106,
     "metadata": {},
     "output_type": "execute_result"
    }
   ],
   "source": [
    "tokens = [s.strip() for s in text.split(',')]\n",
    "tokens"
   ]
  },
  {
   "cell_type": "code",
   "execution_count": 107,
   "metadata": {},
   "outputs": [
    {
     "name": "stdout",
     "output_type": "stream",
     "text": [
      "16 Bolton Avenue\n",
      "Boston\n"
     ]
    }
   ],
   "source": [
    "address, city = [s.strip() for s in text.split(',')]\n",
    "print(address)\n",
    "print(city)"
   ]
  },
  {
   "cell_type": "code",
   "execution_count": 108,
   "metadata": {},
   "outputs": [
    {
     "data": {
      "text/plain": [
       "'16 Bolton Avenue,Boston'"
      ]
     },
     "execution_count": 108,
     "metadata": {},
     "output_type": "execute_result"
    }
   ],
   "source": [
    "address + ',' + city"
   ]
  },
  {
   "cell_type": "code",
   "execution_count": 109,
   "metadata": {},
   "outputs": [
    {
     "data": {
      "text/plain": [
       "'A+;A;A-;B;BB;BBB;C+'"
      ]
     },
     "execution_count": 109,
     "metadata": {},
     "output_type": "execute_result"
    }
   ],
   "source": [
    "strings = ['A+','A','A-','B','BB','BBB','C+']\n",
    "';'.join(strings)"
   ]
  },
  {
   "cell_type": "code",
   "execution_count": 110,
   "metadata": {},
   "outputs": [
    {
     "data": {
      "text/plain": [
       "True"
      ]
     },
     "execution_count": 110,
     "metadata": {},
     "output_type": "execute_result"
    }
   ],
   "source": [
    "'Boston' in text"
   ]
  },
  {
   "cell_type": "code",
   "execution_count": 111,
   "metadata": {},
   "outputs": [
    {
     "data": {
      "text/plain": [
       "19"
      ]
     },
     "execution_count": 111,
     "metadata": {},
     "output_type": "execute_result"
    }
   ],
   "source": [
    "text.index('Boston')"
   ]
  },
  {
   "cell_type": "code",
   "execution_count": 112,
   "metadata": {},
   "outputs": [
    {
     "data": {
      "text/plain": [
       "19"
      ]
     },
     "execution_count": 112,
     "metadata": {},
     "output_type": "execute_result"
    }
   ],
   "source": [
    "text.find('Boston')"
   ]
  },
  {
   "cell_type": "code",
   "execution_count": 113,
   "metadata": {},
   "outputs": [
    {
     "ename": "ValueError",
     "evalue": "substring not found",
     "output_type": "error",
     "traceback": [
      "\u001b[1;31m---------------------------------------------------------------------------\u001b[0m",
      "\u001b[1;31mValueError\u001b[0m                                Traceback (most recent call last)",
      "\u001b[1;32m<ipython-input-113-e44f5210d36c>\u001b[0m in \u001b[0;36m<module>\u001b[1;34m()\u001b[0m\n\u001b[1;32m----> 1\u001b[1;33m \u001b[0mtext\u001b[0m\u001b[1;33m.\u001b[0m\u001b[0mindex\u001b[0m\u001b[1;33m(\u001b[0m\u001b[1;34m'New York'\u001b[0m\u001b[1;33m)\u001b[0m\u001b[1;33m\u001b[0m\u001b[0m\n\u001b[0m",
      "\u001b[1;31mValueError\u001b[0m: substring not found"
     ]
    }
   ],
   "source": [
    "text.index('New York')"
   ]
  },
  {
   "cell_type": "code",
   "execution_count": 114,
   "metadata": {},
   "outputs": [
    {
     "data": {
      "text/plain": [
       "2"
      ]
     },
     "execution_count": 114,
     "metadata": {},
     "output_type": "execute_result"
    }
   ],
   "source": [
    "text.count('e')"
   ]
  },
  {
   "cell_type": "code",
   "execution_count": 115,
   "metadata": {},
   "outputs": [
    {
     "data": {
      "text/plain": [
       "1"
      ]
     },
     "execution_count": 115,
     "metadata": {},
     "output_type": "execute_result"
    }
   ],
   "source": [
    "text.count('Avenue')"
   ]
  },
  {
   "cell_type": "code",
   "execution_count": 116,
   "metadata": {},
   "outputs": [
    {
     "data": {
      "text/plain": [
       "'16 Bolton Street , Boston'"
      ]
     },
     "execution_count": 116,
     "metadata": {},
     "output_type": "execute_result"
    }
   ],
   "source": [
    "text.replace('Avenue','Street')"
   ]
  },
  {
   "cell_type": "code",
   "execution_count": 117,
   "metadata": {},
   "outputs": [
    {
     "data": {
      "text/plain": [
       "'6 Bolton Avenue , Boston'"
      ]
     },
     "execution_count": 117,
     "metadata": {},
     "output_type": "execute_result"
    }
   ],
   "source": [
    "text.replace('1','')"
   ]
  },
  {
   "cell_type": "markdown",
   "metadata": {},
   "source": [
    "## 6.6.2　正则表达式　　139"
   ]
  },
  {
   "cell_type": "code",
   "execution_count": 118,
   "metadata": {},
   "outputs": [
    {
     "data": {
      "text/plain": [
       "['This', 'is', 'an', 'odd', 'text!']"
      ]
     },
     "execution_count": 118,
     "metadata": {},
     "output_type": "execute_result"
    }
   ],
   "source": [
    "import re\n",
    "text = \"This is an\\t odd \\n text!\"\n",
    "re.split('\\s+', text)"
   ]
  },
  {
   "cell_type": "code",
   "execution_count": 119,
   "metadata": {},
   "outputs": [
    {
     "data": {
      "text/plain": [
       "['This', 'is', 'an', 'odd', 'text!']"
      ]
     },
     "execution_count": 119,
     "metadata": {},
     "output_type": "execute_result"
    }
   ],
   "source": [
    "regex = re.compile('\\s+')\n",
    "regex.split(text)"
   ]
  },
  {
   "cell_type": "code",
   "execution_count": 120,
   "metadata": {},
   "outputs": [
    {
     "data": {
      "text/plain": [
       "['Avenue']"
      ]
     },
     "execution_count": 120,
     "metadata": {},
     "output_type": "execute_result"
    }
   ],
   "source": [
    "text = 'This is my address: 16 Bolton Avenue, Boston'\n",
    "re.findall('A\\w+',text)"
   ]
  },
  {
   "cell_type": "code",
   "execution_count": 121,
   "metadata": {},
   "outputs": [
    {
     "data": {
      "text/plain": [
       "['address', 'Avenue']"
      ]
     },
     "execution_count": 121,
     "metadata": {},
     "output_type": "execute_result"
    }
   ],
   "source": [
    "re.findall('[A,a]\\w+',text)"
   ]
  },
  {
   "cell_type": "code",
   "execution_count": 122,
   "metadata": {},
   "outputs": [
    {
     "data": {
      "text/plain": [
       "<_sre.SRE_Match object; span=(11, 18), match='address'>"
      ]
     },
     "execution_count": 122,
     "metadata": {},
     "output_type": "execute_result"
    }
   ],
   "source": [
    "re.search('[A,a]\\w+',text)"
   ]
  },
  {
   "cell_type": "code",
   "execution_count": 123,
   "metadata": {},
   "outputs": [
    {
     "data": {
      "text/plain": [
       "11"
      ]
     },
     "execution_count": 123,
     "metadata": {},
     "output_type": "execute_result"
    }
   ],
   "source": [
    "search = re.search('[A,a]\\w+',text)\n",
    "search.start()"
   ]
  },
  {
   "cell_type": "code",
   "execution_count": 124,
   "metadata": {},
   "outputs": [
    {
     "data": {
      "text/plain": [
       "18"
      ]
     },
     "execution_count": 124,
     "metadata": {},
     "output_type": "execute_result"
    }
   ],
   "source": [
    "search.end()"
   ]
  },
  {
   "cell_type": "code",
   "execution_count": 125,
   "metadata": {},
   "outputs": [
    {
     "data": {
      "text/plain": [
       "'address'"
      ]
     },
     "execution_count": 125,
     "metadata": {},
     "output_type": "execute_result"
    }
   ],
   "source": [
    "text[search.start():search.end()]"
   ]
  },
  {
   "cell_type": "code",
   "execution_count": 126,
   "metadata": {
    "collapsed": true
   },
   "outputs": [],
   "source": [
    "re.match('[A,a]\\w+',text)"
   ]
  },
  {
   "cell_type": "code",
   "execution_count": 127,
   "metadata": {},
   "outputs": [
    {
     "data": {
      "text/plain": [
       "<_sre.SRE_Match object; span=(0, 4), match='This'>"
      ]
     },
     "execution_count": 127,
     "metadata": {},
     "output_type": "execute_result"
    }
   ],
   "source": [
    "re.match('T\\w+',text)"
   ]
  },
  {
   "cell_type": "code",
   "execution_count": 129,
   "metadata": {},
   "outputs": [
    {
     "data": {
      "text/plain": [
       "'This'"
      ]
     },
     "execution_count": 129,
     "metadata": {},
     "output_type": "execute_result"
    }
   ],
   "source": [
    "match = re.match('T\\w+',text)\n",
    "text[match.start():match.end()]"
   ]
  },
  {
   "cell_type": "markdown",
   "metadata": {},
   "source": [
    "# 6.7　数据聚合　　140\n",
    "## 6.7.1　GroupBy　　141\n",
    "## 6.7.2　实例　　141"
   ]
  },
  {
   "cell_type": "code",
   "execution_count": 130,
   "metadata": {},
   "outputs": [
    {
     "name": "stdout",
     "output_type": "stream",
     "text": [
      "   color   object  price1  price2\n",
      "0  white      pen    5.56    4.75\n",
      "1    red   pencil    4.20    4.12\n",
      "2  green   pencil    1.30    1.60\n",
      "3    red  ashtray    0.56    0.75\n",
      "4  green      pen    2.75    3.15\n"
     ]
    }
   ],
   "source": [
    "frame = pd.DataFrame({ 'color': ['white','red','green','red','green'],\n",
    " 'object': ['pen','pencil','pencil','ashtray','pen'],\n",
    " 'price1' : [5.56,4.20,1.30,0.56,2.75],\n",
    " 'price2' : [4.75,4.12,1.60,0.75,3.15]})\n",
    "print(frame)"
   ]
  },
  {
   "cell_type": "code",
   "execution_count": 131,
   "metadata": {},
   "outputs": [
    {
     "data": {
      "text/plain": [
       "<pandas.core.groupby.SeriesGroupBy object at 0x06923E30>"
      ]
     },
     "execution_count": 131,
     "metadata": {},
     "output_type": "execute_result"
    }
   ],
   "source": [
    "group = frame['price1'].groupby(frame['color'])\n",
    "group"
   ]
  },
  {
   "cell_type": "code",
   "execution_count": 132,
   "metadata": {},
   "outputs": [
    {
     "data": {
      "text/plain": [
       "{'green': Int64Index([2, 4], dtype='int64'),\n",
       " 'red': Int64Index([1, 3], dtype='int64'),\n",
       " 'white': Int64Index([0], dtype='int64')}"
      ]
     },
     "execution_count": 132,
     "metadata": {},
     "output_type": "execute_result"
    }
   ],
   "source": [
    "group.groups"
   ]
  },
  {
   "cell_type": "code",
   "execution_count": 133,
   "metadata": {},
   "outputs": [
    {
     "data": {
      "text/plain": [
       "color\n",
       "green    2.025\n",
       "red      2.380\n",
       "white    5.560\n",
       "Name: price1, dtype: float64"
      ]
     },
     "execution_count": 133,
     "metadata": {},
     "output_type": "execute_result"
    }
   ],
   "source": [
    "group.mean()"
   ]
  },
  {
   "cell_type": "code",
   "execution_count": 134,
   "metadata": {},
   "outputs": [
    {
     "data": {
      "text/plain": [
       "color\n",
       "green    4.05\n",
       "red      4.76\n",
       "white    5.56\n",
       "Name: price1, dtype: float64"
      ]
     },
     "execution_count": 134,
     "metadata": {},
     "output_type": "execute_result"
    }
   ],
   "source": [
    "group.sum()"
   ]
  },
  {
   "cell_type": "code",
   "execution_count": 135,
   "metadata": {},
   "outputs": [
    {
     "data": {
      "text/plain": [
       "{('green', 'pen'): Int64Index([4], dtype='int64'),\n",
       " ('green', 'pencil'): Int64Index([2], dtype='int64'),\n",
       " ('red', 'ashtray'): Int64Index([3], dtype='int64'),\n",
       " ('red', 'pencil'): Int64Index([1], dtype='int64'),\n",
       " ('white', 'pen'): Int64Index([0], dtype='int64')}"
      ]
     },
     "execution_count": 135,
     "metadata": {},
     "output_type": "execute_result"
    }
   ],
   "source": [
    "ggroup = frame['price1'].groupby([frame['color'],frame['object']])\n",
    "ggroup.groups"
   ]
  },
  {
   "cell_type": "code",
   "execution_count": 136,
   "metadata": {
    "scrolled": true
   },
   "outputs": [
    {
     "data": {
      "text/plain": [
       "color  object \n",
       "green  pen        2.75\n",
       "       pencil     1.30\n",
       "red    ashtray    0.56\n",
       "       pencil     4.20\n",
       "white  pen        5.56\n",
       "Name: price1, dtype: float64"
      ]
     },
     "execution_count": 136,
     "metadata": {},
     "output_type": "execute_result"
    }
   ],
   "source": [
    "ggroup.sum()"
   ]
  },
  {
   "cell_type": "markdown",
   "metadata": {},
   "source": [
    "## 6.7.3　等级分组　　142"
   ]
  },
  {
   "cell_type": "code",
   "execution_count": 138,
   "metadata": {},
   "outputs": [
    {
     "name": "stdout",
     "output_type": "stream",
     "text": [
      "       price1  price2\n",
      "color                \n",
      "green   2.025   2.375\n",
      "red     2.380   2.435\n",
      "white   5.560   4.750\n"
     ]
    }
   ],
   "source": [
    "temp = frame[['price1','price2']].groupby(frame['color']).mean()\n",
    "print(temp)"
   ]
  },
  {
   "cell_type": "code",
   "execution_count": 140,
   "metadata": {
    "scrolled": true
   },
   "outputs": [
    {
     "name": "stdout",
     "output_type": "stream",
     "text": [
      "       price1  price2\n",
      "color                \n",
      "green   2.025   2.375\n",
      "red     2.380   2.435\n",
      "white   5.560   4.750\n"
     ]
    }
   ],
   "source": [
    "temp = frame.groupby(frame['color']).mean()\n",
    "print(temp)"
   ]
  },
  {
   "cell_type": "markdown",
   "metadata": {},
   "source": [
    "# 6.8　组迭代　　143"
   ]
  },
  {
   "cell_type": "code",
   "execution_count": 141,
   "metadata": {},
   "outputs": [
    {
     "name": "stdout",
     "output_type": "stream",
     "text": [
      "green\n",
      "   color  object  price1  price2\n",
      "2  green  pencil    1.30    1.60\n",
      "4  green     pen    2.75    3.15\n",
      "red\n",
      "  color   object  price1  price2\n",
      "1   red   pencil    4.20    4.12\n",
      "3   red  ashtray    0.56    0.75\n",
      "white\n",
      "   color object  price1  price2\n",
      "0  white    pen    5.56    4.75\n"
     ]
    }
   ],
   "source": [
    "for name, group in frame.groupby('color'):\n",
    "    print(name)\n",
    "    print(group)"
   ]
  },
  {
   "cell_type": "markdown",
   "metadata": {},
   "source": [
    "## 6.8.1　链式转换　　144"
   ]
  },
  {
   "cell_type": "code",
   "execution_count": 142,
   "metadata": {},
   "outputs": [
    {
     "data": {
      "text/plain": [
       "pandas.core.series.Series"
      ]
     },
     "execution_count": 142,
     "metadata": {},
     "output_type": "execute_result"
    }
   ],
   "source": [
    "result1 = frame['price1'].groupby(frame['color']).mean()\n",
    "type(result1)"
   ]
  },
  {
   "cell_type": "code",
   "execution_count": 143,
   "metadata": {},
   "outputs": [
    {
     "data": {
      "text/plain": [
       "pandas.core.frame.DataFrame"
      ]
     },
     "execution_count": 143,
     "metadata": {},
     "output_type": "execute_result"
    }
   ],
   "source": [
    "result2 = frame.groupby(frame['color']).mean()\n",
    "type(result2)"
   ]
  },
  {
   "cell_type": "code",
   "execution_count": 144,
   "metadata": {},
   "outputs": [
    {
     "data": {
      "text/plain": [
       "color\n",
       "green    2.025\n",
       "red      2.380\n",
       "white    5.560\n",
       "Name: price1, dtype: float64"
      ]
     },
     "execution_count": 144,
     "metadata": {},
     "output_type": "execute_result"
    }
   ],
   "source": [
    "frame['price1'].groupby(frame['color']).mean()"
   ]
  },
  {
   "cell_type": "code",
   "execution_count": 145,
   "metadata": {},
   "outputs": [
    {
     "data": {
      "text/plain": [
       "color\n",
       "green    2.025\n",
       "red      2.380\n",
       "white    5.560\n",
       "Name: price1, dtype: float64"
      ]
     },
     "execution_count": 145,
     "metadata": {},
     "output_type": "execute_result"
    }
   ],
   "source": [
    "frame.groupby(frame['color'])['price1'].mean()"
   ]
  },
  {
   "cell_type": "code",
   "execution_count": 146,
   "metadata": {},
   "outputs": [
    {
     "data": {
      "text/plain": [
       "color\n",
       "green    2.025\n",
       "red      2.380\n",
       "white    5.560\n",
       "Name: price1, dtype: float64"
      ]
     },
     "execution_count": 146,
     "metadata": {},
     "output_type": "execute_result"
    }
   ],
   "source": [
    "(frame.groupby(frame['color']).mean())['price1']"
   ]
  },
  {
   "cell_type": "code",
   "execution_count": 148,
   "metadata": {},
   "outputs": [
    {
     "name": "stdout",
     "output_type": "stream",
     "text": [
      "       mean_price1  mean_price2\n",
      "color                          \n",
      "green        2.025        2.375\n",
      "red          2.380        2.435\n",
      "white        5.560        4.750\n"
     ]
    }
   ],
   "source": [
    "means = frame.groupby('color').mean().add_prefix('mean_')\n",
    "print(means)"
   ]
  },
  {
   "cell_type": "markdown",
   "metadata": {},
   "source": [
    "## 6.8.2　分组函数　　145"
   ]
  },
  {
   "cell_type": "code",
   "execution_count": 149,
   "metadata": {},
   "outputs": [
    {
     "data": {
      "text/plain": [
       "color\n",
       "green    2.170\n",
       "red      2.744\n",
       "white    5.560\n",
       "Name: price1, dtype: float64"
      ]
     },
     "execution_count": 149,
     "metadata": {},
     "output_type": "execute_result"
    }
   ],
   "source": [
    "group = frame.groupby('color')\n",
    "group['price1'].quantile(0.6)"
   ]
  },
  {
   "cell_type": "code",
   "execution_count": 151,
   "metadata": {
    "collapsed": true
   },
   "outputs": [],
   "source": [
    "def myrange(series):\n",
    "    return series.max() - series.min()"
   ]
  },
  {
   "cell_type": "code",
   "execution_count": 152,
   "metadata": {},
   "outputs": [
    {
     "data": {
      "text/plain": [
       "color\n",
       "green    1.45\n",
       "red      3.64\n",
       "white    0.00\n",
       "Name: price1, dtype: float64"
      ]
     },
     "execution_count": 152,
     "metadata": {},
     "output_type": "execute_result"
    }
   ],
   "source": [
    "group['price1'].agg(myrange)"
   ]
  },
  {
   "cell_type": "code",
   "execution_count": 154,
   "metadata": {},
   "outputs": [
    {
     "name": "stdout",
     "output_type": "stream",
     "text": [
      "       price1  price2\n",
      "color                \n",
      "green    1.45    1.55\n",
      "red      3.64    3.37\n",
      "white    0.00    0.00\n"
     ]
    }
   ],
   "source": [
    "temp = group.agg(myrange)\n",
    "print(temp)"
   ]
  },
  {
   "cell_type": "code",
   "execution_count": 157,
   "metadata": {},
   "outputs": [
    {
     "name": "stdout",
     "output_type": "stream",
     "text": [
      "        mean       std  myrange\n",
      "color                          \n",
      "green  2.025  1.025305     1.45\n",
      "red    2.380  2.573869     3.64\n",
      "white  5.560       NaN     0.00\n"
     ]
    }
   ],
   "source": [
    "temp = group['price1'].agg(['mean','std',myrange])\n",
    "print(temp)"
   ]
  },
  {
   "cell_type": "markdown",
   "metadata": {},
   "source": [
    "# 6.9　高级数据聚合　　145"
   ]
  },
  {
   "cell_type": "code",
   "execution_count": 158,
   "metadata": {},
   "outputs": [
    {
     "name": "stdout",
     "output_type": "stream",
     "text": [
      "   color  price1  price2\n",
      "0  white    5.56    4.75\n",
      "1    red    4.20    4.12\n",
      "2  green    1.30    1.60\n",
      "3    red    0.56    0.75\n",
      "4  green    2.75    3.15\n"
     ]
    }
   ],
   "source": [
    "frame = pd.DataFrame({ 'color':['white','red','green','red','green'],\n",
    " 'price1':[5.56,4.20,1.30,0.56,2.75],\n",
    " 'price2':[4.75,4.12,1.60,0.75,3.15]})\n",
    "print(frame)"
   ]
  },
  {
   "cell_type": "code",
   "execution_count": 160,
   "metadata": {},
   "outputs": [
    {
     "name": "stdout",
     "output_type": "stream",
     "text": [
      "       tot_price1  tot_price2\n",
      "color                        \n",
      "green        4.05        4.75\n",
      "red          4.76        4.87\n",
      "white        5.56        4.75\n"
     ]
    }
   ],
   "source": [
    "sums = frame.groupby('color').sum().add_prefix('tot_')\n",
    "print(sums)"
   ]
  },
  {
   "cell_type": "code",
   "execution_count": 162,
   "metadata": {},
   "outputs": [
    {
     "name": "stdout",
     "output_type": "stream",
     "text": [
      "   color  price1  price2  tot_price1  tot_price2\n",
      "0  white    5.56    4.75        5.56        4.75\n",
      "1    red    4.20    4.12        4.76        4.87\n",
      "3    red    0.56    0.75        4.76        4.87\n",
      "2  green    1.30    1.60        4.05        4.75\n",
      "4  green    2.75    3.15        4.05        4.75\n"
     ]
    }
   ],
   "source": [
    "temp = pd.merge(frame,sums,left_on='color',right_index=True)\n",
    "print(temp)"
   ]
  },
  {
   "cell_type": "code",
   "execution_count": 163,
   "metadata": {},
   "outputs": [
    {
     "name": "stdout",
     "output_type": "stream",
     "text": [
      "   tot_price1  tot_price2\n",
      "0        5.56        4.75\n",
      "1        4.76        4.87\n",
      "2        4.05        4.75\n",
      "3        4.76        4.87\n",
      "4        4.05        4.75\n"
     ]
    }
   ],
   "source": [
    "temp = frame.groupby('color').transform(np.sum).add_prefix('tot_')\n",
    "print(temp)"
   ]
  },
  {
   "cell_type": "code",
   "execution_count": 165,
   "metadata": {},
   "outputs": [
    {
     "name": "stdout",
     "output_type": "stream",
     "text": [
      "   color status  value1  value2\n",
      "0  white     up   12.33   11.23\n",
      "1  black     up   14.55   31.80\n",
      "2  white   down   22.34   29.99\n",
      "3  white   down   27.84   31.18\n",
      "4  black   down   23.40   18.25\n",
      "5  black     up   18.33   22.44\n"
     ]
    }
   ],
   "source": [
    "frame = pd.DataFrame( { 'color':['white','black','white','white','black','black'],\n",
    " 'status':['up','up','down','down','down','up'],\n",
    " 'value1':[12.33,14.55,22.34,27.84,23.40,18.33],\n",
    " 'value2':[11.23,31.80,29.99,31.18,18.25,22.44]})\n",
    "print(frame)"
   ]
  },
  {
   "cell_type": "code",
   "execution_count": 167,
   "metadata": {},
   "outputs": [
    {
     "name": "stdout",
     "output_type": "stream",
     "text": [
      "              color status  value1  value2\n",
      "color status                              \n",
      "black down    black   down   23.40   18.25\n",
      "      up      black     up   18.33   31.80\n",
      "white down    white   down   27.84   31.18\n",
      "      up      white     up   12.33   11.23\n"
     ]
    }
   ],
   "source": [
    "temp = frame.groupby(['color','status']).apply( lambda x: x.max())\n",
    "print(temp)"
   ]
  },
  {
   "cell_type": "code",
   "execution_count": 169,
   "metadata": {},
   "outputs": [
    {
     "name": "stdout",
     "output_type": "stream",
     "text": [
      "        color status  value1  value2\n",
      "first   white     up   12.33   11.23\n",
      "second  black     up   14.55   31.80\n",
      "third   white   down   22.34   29.99\n",
      "fourth  white   down   27.84   31.18\n",
      "fifth   black   down   23.40   18.25\n",
      "5       black     up   18.33   22.44\n"
     ]
    }
   ],
   "source": [
    "temp = frame.rename(index=reindex, columns=recolumn)\n",
    "print(temp)"
   ]
  },
  {
   "cell_type": "code",
   "execution_count": 171,
   "metadata": {},
   "outputs": [
    {
     "name": "stdout",
     "output_type": "stream",
     "text": [
      "DatetimeIndex(['2015-01-01 00:00:00', '2015-01-01 01:00:00',\n",
      "               '2015-01-01 02:00:00', '2015-01-01 03:00:00',\n",
      "               '2015-01-01 04:00:00', '2015-01-01 05:00:00',\n",
      "               '2015-01-01 06:00:00', '2015-01-01 07:00:00',\n",
      "               '2015-01-01 08:00:00', '2015-01-01 09:00:00'],\n",
      "              dtype='datetime64[ns]', freq='H')\n"
     ]
    }
   ],
   "source": [
    "temp = pd.date_range('1/1/2015', periods=10, freq= 'H')\n",
    "print(temp)"
   ]
  },
  {
   "cell_type": "code",
   "execution_count": 173,
   "metadata": {},
   "outputs": [
    {
     "data": {
      "text/plain": [
       "2015-01-01 00:00:00    0.463135\n",
       "2015-01-01 01:00:00    0.170738\n",
       "2015-01-01 02:00:00    0.542155\n",
       "2015-01-01 03:00:00    0.536056\n",
       "2015-01-01 04:00:00    0.606624\n",
       "2015-01-01 05:00:00    0.011034\n",
       "2015-01-01 06:00:00    0.277493\n",
       "2015-01-01 07:00:00    0.301076\n",
       "2015-01-01 08:00:00    0.170235\n",
       "2015-01-01 09:00:00    0.165120\n",
       "Freq: H, dtype: float64"
      ]
     },
     "execution_count": 173,
     "metadata": {},
     "output_type": "execute_result"
    }
   ],
   "source": [
    "timeseries = pd.Series(np.random.rand(10), index=temp)\n",
    "timeseries"
   ]
  },
  {
   "cell_type": "code",
   "execution_count": 174,
   "metadata": {
    "scrolled": true
   },
   "outputs": [
    {
     "name": "stdout",
     "output_type": "stream",
     "text": [
      "                 date    value1    value2\n",
      "0 2015-01-01 00:00:00  0.783525  0.025861\n",
      "1 2015-01-01 01:00:00  0.829443  0.642484\n",
      "2 2015-01-01 02:00:00  0.260990  0.350753\n",
      "3 2015-01-01 03:00:00  0.699793  0.118472\n",
      "4 2015-01-01 04:00:00  0.349411  0.228708\n",
      "5 2015-01-01 05:00:00  0.382496  0.902575\n",
      "6 2015-01-01 06:00:00  0.896227  0.934669\n",
      "7 2015-01-01 07:00:00  0.829987  0.941199\n",
      "8 2015-01-01 08:00:00  0.479027  0.203317\n",
      "9 2015-01-01 09:00:00  0.132429  0.102593\n"
     ]
    }
   ],
   "source": [
    "timetable = pd.DataFrame( {'date': temp, 'value1' : np.random.rand(10),\n",
    " 'value2' : np.random.rand(10)})\n",
    "print(timetable)"
   ]
  },
  {
   "cell_type": "code",
   "execution_count": 175,
   "metadata": {},
   "outputs": [
    {
     "name": "stdout",
     "output_type": "stream",
     "text": [
      "                 date    value1    value2    cat\n",
      "0 2015-01-01 00:00:00  0.783525  0.025861     up\n",
      "1 2015-01-01 01:00:00  0.829443  0.642484   down\n",
      "2 2015-01-01 02:00:00  0.260990  0.350753   left\n",
      "3 2015-01-01 03:00:00  0.699793  0.118472   left\n",
      "4 2015-01-01 04:00:00  0.349411  0.228708     up\n",
      "5 2015-01-01 05:00:00  0.382496  0.902575     up\n",
      "6 2015-01-01 06:00:00  0.896227  0.934669   down\n",
      "7 2015-01-01 07:00:00  0.829987  0.941199  right\n",
      "8 2015-01-01 08:00:00  0.479027  0.203317  right\n",
      "9 2015-01-01 09:00:00  0.132429  0.102593     up\n"
     ]
    }
   ],
   "source": [
    "timetable['cat'] = ['up','down','left','left','up','up','down','right','right','up']\n",
    "print(timetable)"
   ]
  },
  {
   "cell_type": "markdown",
   "metadata": {},
   "source": [
    "# 6.10　小结　　148"
   ]
  },
  {
   "cell_type": "code",
   "execution_count": null,
   "metadata": {
    "collapsed": true
   },
   "outputs": [],
   "source": []
  }
 ],
 "metadata": {
  "kernelspec": {
   "display_name": "Python 3",
   "language": "python",
   "name": "python3"
  },
  "language_info": {
   "codemirror_mode": {
    "name": "ipython",
    "version": 3
   },
   "file_extension": ".py",
   "mimetype": "text/x-python",
   "name": "python",
   "nbconvert_exporter": "python",
   "pygments_lexer": "ipython3",
   "version": "3.6.3"
  }
 },
 "nbformat": 4,
 "nbformat_minor": 2
}
